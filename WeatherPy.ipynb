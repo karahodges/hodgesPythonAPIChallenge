{
 "cells": [
  {
   "cell_type": "markdown",
   "metadata": {},
   "source": [
    "# WeatherPy\n",
    "----\n",
    "\n",
    "#### Note\n",
    "* Instructions have been included for each segment. You do not have to follow them exactly, but they are included to help you think through the steps."
   ]
  },
  {
   "cell_type": "code",
   "execution_count": 83,
   "metadata": {
    "scrolled": true
   },
   "outputs": [
    {
     "name": "stdout",
     "output_type": "stream",
     "text": [
      "659374877bea205be7d6b0590c1a3368\n"
     ]
    }
   ],
   "source": [
    "# Dependencies and Setup\n",
    "import matplotlib.pyplot as plt\n",
    "import pandas as pd\n",
    "import numpy as np\n",
    "import requests\n",
    "import time\n",
    "from pprint import pprint\n",
    "from scipy.stats import linregress\n",
    "\n",
    "# Import API key\n",
    "#from api_keys import weather_api_key\n",
    "\n",
    "# Incorporated citipy to determine city based on latitude and longitude\n",
    "from citipy import citipy\n",
    "\n",
    "# Output File (CSV)\n",
    "output_data_file = \"output_data/cities.csv\"\n",
    "\n",
    "# Range of latitudes and longitudes\n",
    "lat_range = (-90, 90)\n",
    "lng_range = (-180, 180)\n",
    "weather_api_key=\"659374877bea205be7d6b0590c1a3368\"\n",
    "print(weather_api_key)"
   ]
  },
  {
   "cell_type": "markdown",
   "metadata": {},
   "source": [
    "## Generate Cities List"
   ]
  },
  {
   "cell_type": "code",
   "execution_count": 37,
   "metadata": {},
   "outputs": [
    {
     "data": {
      "text/plain": [
       "612"
      ]
     },
     "execution_count": 37,
     "metadata": {},
     "output_type": "execute_result"
    }
   ],
   "source": [
    "# List for holding lat_lngs and cities\n",
    "lat_lngs = []\n",
    "cities = []\n",
    "\n",
    "# Create a set of random lat and lng combinations\n",
    "lats = np.random.uniform(low=-90.000, high=90.000, size=1500)\n",
    "lngs = np.random.uniform(low=-180.000, high=180.000, size=1500)\n",
    "lat_lngs = zip(lats, lngs)\n",
    "\n",
    "# Identify nearest city for each lat, lng combination\n",
    "for lat_lng in lat_lngs:\n",
    "    city = citipy.nearest_city(lat_lng[0], lat_lng[1]).city_name\n",
    "    \n",
    "    # If the city is unique, then add it to a our cities list\n",
    "    if city not in cities:\n",
    "        cities.append(city)\n",
    "\n",
    "# Print the city count to confirm sufficient count\n",
    "len(cities)\n",
    "\n",
    "#test_df=citipy.nearest_city(lat_lng[0], lat_lng[1]).city_name\n",
    "#print(test_df)"
   ]
  },
  {
   "cell_type": "markdown",
   "metadata": {},
   "source": [
    "### Perform API Calls\n",
    "* Perform a weather check on each city using a series of successive API calls.\n",
    "* Include a print log of each city as it'sbeing processed (with the city number and city name).\n"
   ]
  },
  {
   "cell_type": "code",
   "execution_count": 41,
   "metadata": {},
   "outputs": [],
   "source": [
    "# Save config information.\n",
    "url = \"http://api.openweathermap.org/data/2.5/weather?\"\n",
    "units = \"imperial\"\n",
    "\n",
    "# Build partial query URL\n",
    "query_url = f\"{url}appid={weather_api_key}&units={units}&q=\"\n"
   ]
  },
  {
   "cell_type": "code",
   "execution_count": 42,
   "metadata": {},
   "outputs": [
    {
     "name": "stdout",
     "output_type": "stream",
     "text": [
      "http://api.openweathermap.org/data/2.5/weather?appid=659374877bea205be7d6b0590c1a3368&units=imperial&q=\n"
     ]
    }
   ],
   "source": [
    "print(query_url)"
   ]
  },
  {
   "cell_type": "code",
   "execution_count": 50,
   "metadata": {},
   "outputs": [
    {
     "name": "stdout",
     "output_type": "stream",
     "text": [
      "The city guerrero negro is number 1\n",
      "The city san juan is number 2\n",
      "The city muravlenko is number 3\n",
      "The city qaanaaq is number 4\n",
      "The city kozan is number 5\n",
      "The city kaeo is number 6\n",
      "The city saint george is number 7\n",
      "The city busselton is number 8\n",
      "The city yeroham is number 9\n",
      "The city tiksi is number 10\n",
      "The city saleaula information was not found\n",
      "The city moncton is number 11\n",
      "The city russellville is number 12\n",
      "The city vila franca do campo is number 13\n",
      "The city eureka is number 14\n",
      "The city butaritari is number 15\n",
      "The city klaksvik is number 16\n",
      "The city talnakh is number 17\n",
      "The city ushuaia is number 18\n",
      "The city punta arenas is number 19\n",
      "The city uni is number 20\n",
      "The city pangnirtung is number 21\n",
      "The city bitung is number 22\n",
      "The city meyungs information was not found\n",
      "The city bredasdorp is number 23\n",
      "The city mar del plata is number 24\n",
      "The city zarubino is number 25\n",
      "The city barentsburg information was not found\n",
      "The city ostrovnoy is number 26\n",
      "The city albany is number 27\n",
      "The city hithadhoo is number 28\n",
      "The city pacifica is number 29\n",
      "The city hofn is number 30\n",
      "The city yellowknife is number 31\n",
      "The city vao is number 32\n",
      "The city tuktoyaktuk is number 33\n",
      "The city lebu is number 34\n",
      "The city rawson is number 35\n",
      "The city saint-paul is number 36\n",
      "The city funtua is number 37\n",
      "The city hermanus is number 38\n",
      "The city arraial do cabo is number 39\n",
      "The city illoqqortoormiut information was not found\n",
      "The city mattawa is number 40\n",
      "The city ngukurr information was not found\n",
      "The city taolanaro information was not found\n",
      "The city kalabagh is number 41\n",
      "The city mount gambier is number 42\n",
      "The city castro is number 43\n",
      "The city puerto penasco is number 44\n",
      "The city fortuna is number 45\n",
      "The city kodiak is number 46\n",
      "The city barrow is number 47\n",
      "The city pisco is number 48\n",
      "The city zhezkazgan is number 49\n",
      "The city bethel is number 50\n",
      "The city avarua is number 51\n",
      "The city deputatskiy is number 52\n",
      "The city hilo is number 53\n",
      "The city mys shmidta information was not found\n",
      "The city thompson is number 54\n",
      "The city alice springs is number 55\n",
      "The city cape town is number 56\n",
      "The city hobart is number 57\n",
      "The city batagay-alyta is number 58\n",
      "The city santa isabel do rio negro is number 59\n",
      "The city saskylakh is number 60\n",
      "The city eyl is number 61\n",
      "The city vaini is number 62\n",
      "The city jerome is number 63\n",
      "The city lorengau is number 64\n",
      "The city ribeira grande is number 65\n",
      "The city poso is number 66\n",
      "The city rikitea is number 67\n",
      "The city tocopilla is number 68\n",
      "The city rawannawi information was not found\n",
      "The city east london is number 69\n",
      "The city la ronge is number 70\n",
      "The city wulanhaote information was not found\n",
      "The city saint anthony is number 71\n",
      "The city tilichiki is number 72\n",
      "The city alto araguaia is number 73\n",
      "The city bluff is number 74\n",
      "The city kapaa is number 75\n",
      "The city vuktyl is number 76\n",
      "The city georgetown is number 77\n",
      "The city iralaya is number 78\n",
      "The city takab is number 79\n",
      "The city vardo is number 80\n",
      "The city karakendzha information was not found\n",
      "The city san cristobal is number 81\n",
      "The city faanui is number 82\n",
      "The city qasigiannguit is number 83\n",
      "The city mecca is number 84\n",
      "The city tasiilaq is number 85\n",
      "The city port elizabeth is number 86\n",
      "The city jamestown is number 87\n",
      "The city anadyr is number 88\n",
      "The city bonfim is number 89\n",
      "The city kaitangata is number 90\n",
      "The city san patricio is number 91\n",
      "The city zhangye is number 92\n",
      "The city isangel is number 93\n",
      "The city puerto ayora is number 94\n",
      "The city trairi is number 95\n",
      "The city bilma is number 96\n",
      "The city new norfolk is number 97\n",
      "The city atuona is number 98\n",
      "The city mataura is number 99\n",
      "The city eldikan information was not found\n",
      "The city puerto palomas is number 100\n",
      "The city skibbereen is number 101\n",
      "The city kavieng is number 102\n",
      "The city clyde river is number 103\n",
      "The city walvis bay is number 104\n",
      "The city guanajuato is number 105\n",
      "The city ilulissat is number 106\n",
      "The city pevek is number 107\n",
      "The city bud is number 108\n",
      "The city thinadhoo is number 109\n",
      "The city riwaka is number 110\n",
      "The city gallup is number 111\n",
      "The city cayenne is number 112\n",
      "The city bambous virieux is number 113\n",
      "The city dzilam gonzalez is number 114\n",
      "The city lagoa is number 115\n",
      "The city los llanos de aridane is number 116\n",
      "The city solnechnyy is number 117\n",
      "The city thunder bay is number 118\n",
      "The city verkhnetulomskiy is number 119\n",
      "The city sumbe is number 120\n",
      "The city port alfred is number 121\n",
      "The city chokurdakh is number 122\n",
      "The city ancud is number 123\n",
      "The city saint-philippe is number 124\n",
      "The city kavaratti is number 125\n",
      "The city merauke is number 126\n",
      "The city upernavik is number 127\n",
      "The city tazovskiy is number 128\n",
      "The city damphu is number 129\n",
      "The city pitimbu is number 130\n",
      "The city pucara is number 131\n",
      "The city samusu information was not found\n",
      "The city kyaikto is number 132\n",
      "The city khatanga is number 133\n",
      "The city acajutla is number 134\n",
      "The city nemuro is number 135\n",
      "The city victoria is number 136\n",
      "The city umzimvubu information was not found\n",
      "The city barcelona is number 137\n",
      "The city portland is number 138\n",
      "The city hamilton is number 139\n",
      "The city fasa is number 140\n",
      "The city guarapari is number 141\n",
      "The city mehamn is number 142\n",
      "The city cabo san lucas is number 143\n",
      "The city kruisfontein is number 144\n",
      "The city bilibino is number 145\n",
      "The city machiques is number 146\n",
      "The city yuancheng is number 147\n",
      "The city bam is number 148\n",
      "The city inuvik is number 149\n",
      "The city skalistyy information was not found\n",
      "The city north platte is number 150\n",
      "The city longyearbyen is number 151\n",
      "The city fayaoue is number 152\n",
      "The city burnie is number 153\n",
      "The city grindavik is number 154\n",
      "The city sao filipe is number 155\n",
      "The city laranjeiras do sul is number 156\n",
      "The city broken hill is number 157\n",
      "The city male is number 158\n",
      "The city mayumba is number 159\n",
      "The city dunedin is number 160\n",
      "The city stamsund information was not found\n",
      "The city siva is number 161\n",
      "The city dire dawa is number 162\n",
      "The city bolshoye soldatskoye information was not found\n",
      "The city belushya guba information was not found\n",
      "The city half moon bay is number 163\n",
      "The city sao joao da barra is number 164\n",
      "The city banamba is number 165\n",
      "The city santa fe is number 166\n",
      "The city antofagasta is number 167\n",
      "The city kutum is number 168\n",
      "The city mandera is number 169\n",
      "The city berlevag is number 170\n",
      "The city lhokseumawe is number 171\n",
      "The city dikson is number 172\n",
      "The city quimper is number 173\n",
      "The city madras is number 174\n",
      "The city cidreira is number 175\n",
      "The city ambilobe is number 176\n",
      "The city severo-kurilsk is number 177\n",
      "The city kolaras is number 178\n",
      "The city angoram is number 179\n",
      "The city hay river is number 180\n",
      "The city carnarvon is number 181\n",
      "The city amberley is number 182\n",
      "The city fort nelson is number 183\n",
      "The city dwarka is number 184\n",
      "The city khryashchevka is number 185\n",
      "The city cabedelo is number 186\n",
      "The city lakes entrance is number 187\n",
      "The city leningradskiy is number 188\n",
      "The city dolzhanskaya is number 189\n",
      "The city terrace is number 190\n",
      "The city emerald is number 191\n",
      "The city tuatapere is number 192\n",
      "The city praia da vitoria is number 193\n",
      "The city esperance is number 194\n",
      "The city juifang information was not found\n",
      "The city grand river south east information was not found\n",
      "The city kargasok is number 195\n",
      "The city husavik is number 196\n",
      "The city toamua information was not found\n",
      "The city codrington is number 197\n",
      "The city aswan is number 198\n",
      "The city alofi is number 199\n",
      "The city florianopolis is number 200\n",
      "The city kamenka is number 201\n",
      "The city sur is number 202\n",
      "The city buraydah is number 203\n",
      "The city kahului is number 204\n",
      "The city bastia is number 205\n",
      "The city vitim is number 206\n",
      "The city lata is number 207\n",
      "The city hasaki is number 208\n",
      "The city liverpool is number 209\n",
      "The city iqaluit is number 210\n",
      "The city boulder is number 211\n",
      "The city tsihombe information was not found\n",
      "The city sentyabrskiy information was not found\n",
      "The city kapit is number 212\n",
      "The city demyansk is number 213\n",
      "The city mouila is number 214\n",
      "The city barkly west is number 215\n",
      "The city itoman is number 216\n",
      "The city takoradi is number 217\n",
      "The city filingue is number 218\n",
      "The city abong mbang is number 219\n",
      "The city south yuba city is number 220\n",
      "The city juneau is number 221\n",
      "The city vaitupu information was not found\n",
      "The city marienburg is number 222\n",
      "The city healdsburg is number 223\n",
      "The city vysokogornyy is number 224\n"
     ]
    },
    {
     "name": "stdout",
     "output_type": "stream",
     "text": [
      "The city bestobe is number 225\n",
      "The city ulaanbaatar is number 226\n",
      "The city nizhneyansk information was not found\n",
      "The city nikolskoye is number 227\n",
      "The city kathu is number 228\n",
      "The city oranjestad is number 229\n",
      "The city taoudenni is number 230\n",
      "The city zaraza is number 231\n",
      "The city dauphin is number 232\n",
      "The city dakar is number 233\n",
      "The city adrar is number 234\n",
      "The city alamosa is number 235\n",
      "The city paredon is number 236\n",
      "The city dossor is number 237\n",
      "The city nouakchott is number 238\n",
      "The city havoysund is number 239\n",
      "The city bathsheba is number 240\n",
      "The city kautokeino is number 241\n",
      "The city sobolevo is number 242\n",
      "The city one hundred mile house information was not found\n",
      "The city mabaruma is number 243\n",
      "The city hirara is number 244\n",
      "The city tabiauea information was not found\n",
      "The city bogatynia is number 245\n",
      "The city primorsk is number 246\n",
      "The city atar is number 247\n",
      "The city cherskiy is number 248\n",
      "The city chagda information was not found\n",
      "The city panorama is number 249\n",
      "The city attawapiskat information was not found\n",
      "The city bharatpur is number 250\n",
      "The city petropavlovsk-kamchatskiy is number 251\n",
      "The city tagusao is number 252\n",
      "The city la orilla is number 253\n",
      "The city egvekinot is number 254\n",
      "The city ilo is number 255\n",
      "The city port hardy is number 256\n",
      "The city svetlyy is number 257\n",
      "The city frutal is number 258\n",
      "The city itarema is number 259\n",
      "The city gualaquiza is number 260\n",
      "The city quatre cocos is number 261\n",
      "The city solnechnogorsk is number 262\n",
      "The city lulea is number 263\n",
      "The city namibe is number 264\n",
      "The city zarakes information was not found\n",
      "The city winston-salem is number 265\n",
      "The city narsaq is number 266\n",
      "The city laguna is number 267\n",
      "The city papayal is number 268\n",
      "The city nicoya is number 269\n",
      "The city skjervoy is number 270\n",
      "The city miyakonojo is number 271\n",
      "The city chulym is number 272\n",
      "The city kenai is number 273\n",
      "The city tumannyy information was not found\n",
      "The city bonnyville is number 274\n",
      "The city lompoc is number 275\n",
      "The city constitucion is number 276\n",
      "The city mahebourg is number 277\n",
      "The city bozoum is number 278\n",
      "The city la romana is number 279\n",
      "The city aflu information was not found\n",
      "The city souillac is number 280\n",
      "The city zhuhai is number 281\n",
      "The city borogontsy is number 282\n",
      "The city dhulian is number 283\n",
      "The city labuhan is number 284\n",
      "The city kyren is number 285\n",
      "The city salym is number 286\n",
      "The city camacupa is number 287\n",
      "The city bengkulu is number 288\n",
      "The city groningen is number 289\n",
      "The city mayo is number 290\n",
      "The city sandwick is number 291\n",
      "The city beringovskiy is number 292\n",
      "The city kerki information was not found\n",
      "The city paravola is number 293\n",
      "The city aguimes is number 294\n",
      "The city troitskiy is number 295\n",
      "The city padang is number 296\n",
      "The city pombas is number 297\n",
      "The city flinders is number 298\n",
      "The city tarauaca is number 299\n",
      "The city barcelos is number 300\n",
      "The city paracuru is number 301\n",
      "The city norman wells is number 302\n",
      "The city moba is number 303\n",
      "The city bubaque is number 304\n",
      "The city amderma information was not found\n",
      "The city ewa beach is number 305\n",
      "The city rumuruti is number 306\n",
      "The city ponta do sol is number 307\n",
      "The city cockburn town is number 308\n",
      "The city coihaique is number 309\n",
      "The city ornskoldsvik is number 310\n",
      "The city independencia is number 311\n",
      "The city parana is number 312\n",
      "The city aklavik is number 313\n",
      "The city sola is number 314\n",
      "The city sorochinsk is number 315\n",
      "The city caravelas is number 316\n",
      "The city sao felix do xingu is number 317\n",
      "The city kazanskaya is number 318\n",
      "The city maniitsoq is number 319\n",
      "The city gandai is number 320\n",
      "The city santa rosa is number 321\n",
      "The city hambantota is number 322\n",
      "The city gondanglegi is number 323\n",
      "The city auki is number 324\n",
      "The city karkaralinsk information was not found\n",
      "The city airai is number 325\n",
      "The city provideniya is number 326\n",
      "The city hendek is number 327\n",
      "The city danielskuil is number 328\n",
      "The city palmer is number 329\n",
      "The city faya is number 330\n",
      "The city rio cuarto is number 331\n",
      "The city paamiut is number 332\n",
      "The city morgan city is number 333\n",
      "The city andrelandia is number 334\n",
      "The city praia is number 335\n",
      "The city red deer is number 336\n",
      "The city vila do maio is number 337\n",
      "The city lichtenburg is number 338\n",
      "The city luderitz is number 339\n",
      "The city cap malheureux is number 340\n",
      "The city yuksekova is number 341\n",
      "The city biak is number 342\n",
      "The city slave lake is number 343\n",
      "The city sao jose da coroa grande is number 344\n",
      "The city manta is number 345\n",
      "The city divnomorskoye is number 346\n",
      "The city stornoway is number 347\n",
      "The city sitka is number 348\n",
      "The city huilong is number 349\n",
      "The city bintulu is number 350\n",
      "The city san luis is number 351\n",
      "The city wanning is number 352\n",
      "The city dryden is number 353\n",
      "The city uige is number 354\n",
      "The city geresk information was not found\n",
      "The city maldonado is number 355\n",
      "The city camacha is number 356\n",
      "The city kieta is number 357\n",
      "The city palabuhanratu information was not found\n",
      "The city fare is number 358\n",
      "The city zagora is number 359\n",
      "The city skagastrond information was not found\n",
      "The city ishigaki is number 360\n",
      "The city sault sainte marie is number 361\n",
      "The city torbay is number 362\n",
      "The city micheweni is number 363\n",
      "The city puerto escondido is number 364\n",
      "The city raudeberg is number 365\n",
      "The city lasa is number 366\n",
      "The city evans is number 367\n",
      "The city the valley is number 368\n",
      "The city waipawa is number 369\n",
      "The city cam ranh is number 370\n",
      "The city esmeraldas is number 371\n",
      "The city kargil is number 372\n",
      "The city jasper is number 373\n",
      "The city brawley is number 374\n",
      "The city cortes is number 375\n",
      "The city burica information was not found\n",
      "The city atsiki information was not found\n",
      "The city aykhal is number 376\n",
      "The city maceio is number 377\n",
      "The city dubbo is number 378\n",
      "The city burns lake is number 379\n",
      "The city saint-augustin is number 380\n",
      "The city bababe information was not found\n",
      "The city raga is number 381\n",
      "The city sao domingos is number 382\n",
      "The city chornobayivka is number 383\n",
      "The city yarim is number 384\n",
      "The city clearlake is number 385\n",
      "The city iroquois falls is number 386\n",
      "The city kailua is number 387\n",
      "The city krasnoselkup is number 388\n",
      "The city seymchan is number 389\n",
      "The city san felipe is number 390\n",
      "The city katha information was not found\n",
      "The city miandrivazo is number 391\n",
      "The city lisala is number 392\n",
      "The city poya is number 393\n",
      "The city barroquinha is number 394\n",
      "The city mildura is number 395\n",
      "The city bobrovytsya is number 396\n",
      "The city selty is number 397\n",
      "The city kireyevsk is number 398\n",
      "The city umm bab is number 399\n",
      "The city namatanai is number 400\n",
      "The city novo oriente is number 401\n",
      "The city sulangan is number 402\n",
      "The city westport is number 403\n",
      "The city maputo is number 404\n",
      "The city la solana is number 405\n",
      "The city huarmey is number 406\n",
      "The city mitsamiouli is number 407\n",
      "The city kholodnyy is number 408\n",
      "The city dehloran is number 409\n",
      "The city geraldton is number 410\n",
      "The city muli is number 411\n",
      "The city karpogory is number 412\n",
      "The city hailey is number 413\n",
      "The city karratha is number 414\n",
      "The city sorong is number 415\n",
      "The city borujerd is number 416\n",
      "The city lavrentiya is number 417\n",
      "The city mandurah is number 418\n",
      "The city sinkat information was not found\n",
      "The city sambava is number 419\n",
      "The city felidhoo information was not found\n",
      "The city los algarrobos is number 420\n",
      "The city dingle is number 421\n",
      "The city saint-joseph is number 422\n",
      "The city kamenskoye information was not found\n",
      "The city tres arroyos is number 423\n",
      "The city tshikapa is number 424\n",
      "The city arlit is number 425\n",
      "The city muroto is number 426\n",
      "The city bargal information was not found\n",
      "The city bandarbeyla is number 427\n",
      "The city lufkin is number 428\n",
      "The city saint-ambroise is number 429\n",
      "The city banjarmasin is number 430\n",
      "The city sataua information was not found\n",
      "The city avon is number 431\n",
      "The city baykit is number 432\n",
      "The city rio grande is number 433\n",
      "The city sorland is number 434\n",
      "The city assisi is number 435\n",
      "The city baturaja is number 436\n",
      "The city inhambane is number 437\n",
      "The city kathmandu is number 438\n",
      "The city dalmeny is number 439\n",
      "The city tautira is number 440\n",
      "The city nyrob is number 441\n",
      "The city poum is number 442\n",
      "The city akure is number 443\n",
      "The city mergui information was not found\n",
      "The city moree is number 444\n",
      "The city hudson bay is number 445\n",
      "The city stonewall is number 446\n"
     ]
    },
    {
     "name": "stdout",
     "output_type": "stream",
     "text": [
      "The city luban is number 447\n",
      "The city douglas is number 448\n",
      "The city olafsvik is number 449\n",
      "The city cherdyn is number 450\n",
      "The city rodrigues alves is number 451\n",
      "The city makakilo city is number 452\n",
      "The city yaqui is number 453\n",
      "The city vangaindrano is number 454\n",
      "The city puerto del rosario is number 455\n",
      "The city vreed en hoop information was not found\n",
      "The city shelburne is number 456\n",
      "The city antalaha is number 457\n",
      "The city taybad is number 458\n",
      "The city kattivakkam is number 459\n",
      "The city kendari is number 460\n",
      "The city san jose is number 461\n",
      "The city changtu is number 462\n",
      "The city xining is number 463\n",
      "The city edd is number 464\n",
      "The city mahajanga is number 465\n",
      "The city manado is number 466\n",
      "The city khandyga is number 467\n",
      "The city yulara is number 468\n",
      "The city yurya information was not found\n",
      "The city kalabo is number 469\n",
      "The city belle glade is number 470\n",
      "The city evensk is number 471\n",
      "The city olga is number 472\n",
      "The city ulladulla is number 473\n",
      "The city rayevskiy is number 474\n",
      "The city ternate is number 475\n",
      "The city kidal is number 476\n",
      "The city pomabamba is number 477\n",
      "The city ghanzi is number 478\n",
      "The city nanortalik is number 479\n",
      "The city sompeta is number 480\n",
      "The city bobonong information was not found\n",
      "The city vila velha is number 481\n",
      "The city pacific grove is number 482\n",
      "The city sumkino is number 483\n",
      "The city caruray is number 484\n",
      "The city krynychky is number 485\n",
      "The city arang is number 486\n",
      "The city blonduos information was not found\n",
      "The city umea is number 487\n",
      "The city steamboat springs is number 488\n",
      "The city green valley is number 489\n",
      "The city hunza information was not found\n",
      "The city semey is number 490\n",
      "The city hammerfest is number 491\n",
      "The city kazalinsk information was not found\n",
      "The city falealupo information was not found\n",
      "The city careiro da varzea is number 492\n",
      "The city celestun is number 493\n",
      "The city talcahuano is number 494\n",
      "The city banjar is number 495\n",
      "The city college is number 496\n",
      "The city zolotinka information was not found\n",
      "The city ossora is number 497\n",
      "The city marrakesh is number 498\n",
      "The city tabou is number 499\n",
      "The city ende is number 500\n",
      "The city rio gallegos is number 501\n",
      "The city haines junction is number 502\n",
      "The city letlhakeng is number 503\n",
      "The city ukiah is number 504\n",
      "The city pingliang is number 505\n",
      "The city avera is number 506\n",
      "The city lipari is number 507\n",
      "The city ahuimanu is number 508\n",
      "The city darnah is number 509\n",
      "The city bulawayo is number 510\n",
      "The city comiso is number 511\n",
      "The city sisimiut is number 512\n",
      "The city asau is number 513\n",
      "The city mezen is number 514\n",
      "The city lima is number 515\n",
      "The city la baule-escoublac is number 516\n",
      "The city macau is number 517\n",
      "The city moose factory is number 518\n",
      "The city kuche information was not found\n",
      "The city kushiro is number 519\n",
      "The city marsa matruh is number 520\n",
      "The city dunda is number 521\n",
      "The city fairbanks is number 522\n",
      "The city sinnamary is number 523\n",
      "The city mahanje is number 524\n",
      "The city chuy is number 525\n",
      "The city pilar is number 526\n",
      "The city naryan-mar is number 527\n",
      "The city santiago del estero is number 528\n",
      "The city trapani is number 529\n",
      "The city san policarpo is number 530\n",
      "The city songjianghe is number 531\n",
      "The city dalvik is number 532\n",
      "The city grenaa is number 533\n",
      "The city bonthe is number 534\n",
      "The city fort dodge is number 535\n",
      "The city isla mujeres is number 536\n",
      "The city winnipeg is number 537\n",
      "The city mogochin information was not found\n",
      "The city banikoara is number 538\n",
      "The city santiago de cao is number 539\n",
      "The city charters towers is number 540\n",
      "The city pingshan is number 541\n",
      "The city mme information was not found\n",
      "The city manjeshwar is number 542\n",
      "The city mathathane is number 543\n",
      "The city jiwani is number 544\n",
      "The city porto santo is number 545\n",
      "The city lolua information was not found\n",
      "The city bol is number 546\n",
      "The city touros is number 547\n",
      "The city lawrenceburg is number 548\n",
      "The city san is number 549\n",
      "The city paita is number 550\n",
      "The city san-pedro is number 551\n",
      "The city port pirie is number 552\n",
      "The city aksarka is number 553\n"
     ]
    }
   ],
   "source": [
    "name=[]\n",
    "cloud=[]\n",
    "date=[]\n",
    "humid=[]\n",
    "lat = []\n",
    "longi=[] \n",
    "temp = []\n",
    "wind=[]\n",
    "count=0\n",
    "\n",
    "#Loop through the list of cities and perform a request for data on each\n",
    "for city in cities:\n",
    "    response = requests.get(query_url + city).json()\n",
    "    try:\n",
    "        name.append(response['name'])\n",
    "        cloud.append(response['clouds']['all'])\n",
    "        date.append(response['dt'])\n",
    "        humid.append(response['main']['humidity'])\n",
    "        lat.append(response['coord']['lat'])\n",
    "        longi.append(response['coord']['lon'])\n",
    "        temp.append(response['main']['temp'])\n",
    "        wind.append(response['wind']['speed'])\n",
    "        count= count+1\n",
    "        print(f'The city {city} is number {count}')\n",
    "    except(KeyError):\n",
    "        print(f\"The city {city} information was not found\")\n",
    "\n",
    "    \n",
    "    "
   ]
  },
  {
   "cell_type": "markdown",
   "metadata": {},
   "source": [
    "### Convert Raw Data to DataFrame\n",
    "* Export the city data into a .csv.\n",
    "* Display the DataFrame"
   ]
  },
  {
   "cell_type": "code",
   "execution_count": 52,
   "metadata": {
    "scrolled": true
   },
   "outputs": [
    {
     "name": "stdout",
     "output_type": "stream",
     "text": [
      "553\n",
      "553\n",
      "553\n",
      "553\n"
     ]
    }
   ],
   "source": [
    "print(len(cloud))\n",
    "print(len(date))\n",
    "print(len(humid))\n",
    "print(len(name))"
   ]
  },
  {
   "cell_type": "code",
   "execution_count": 56,
   "metadata": {},
   "outputs": [
    {
     "data": {
      "text/html": [
       "<div>\n",
       "<style scoped>\n",
       "    .dataframe tbody tr th:only-of-type {\n",
       "        vertical-align: middle;\n",
       "    }\n",
       "\n",
       "    .dataframe tbody tr th {\n",
       "        vertical-align: top;\n",
       "    }\n",
       "\n",
       "    .dataframe thead th {\n",
       "        text-align: right;\n",
       "    }\n",
       "</style>\n",
       "<table border=\"1\" class=\"dataframe\">\n",
       "  <thead>\n",
       "    <tr style=\"text-align: right;\">\n",
       "      <th></th>\n",
       "      <th>City</th>\n",
       "      <th>Cloudiness</th>\n",
       "      <th>Date</th>\n",
       "      <th>Humidity</th>\n",
       "      <th>Latitude</th>\n",
       "      <th>Longitude</th>\n",
       "      <th>Max Temperature</th>\n",
       "      <th>Wind Speed</th>\n",
       "    </tr>\n",
       "  </thead>\n",
       "  <tbody>\n",
       "    <tr>\n",
       "      <td>0</td>\n",
       "      <td>Guerrero Negro</td>\n",
       "      <td>0</td>\n",
       "      <td>1587258069</td>\n",
       "      <td>61</td>\n",
       "      <td>27.98</td>\n",
       "      <td>-114.06</td>\n",
       "      <td>63.99</td>\n",
       "      <td>21.45</td>\n",
       "    </tr>\n",
       "    <tr>\n",
       "      <td>1</td>\n",
       "      <td>San Juan</td>\n",
       "      <td>0</td>\n",
       "      <td>1587258143</td>\n",
       "      <td>30</td>\n",
       "      <td>-31.54</td>\n",
       "      <td>-68.54</td>\n",
       "      <td>75.94</td>\n",
       "      <td>1.01</td>\n",
       "    </tr>\n",
       "    <tr>\n",
       "      <td>2</td>\n",
       "      <td>Muravlenko</td>\n",
       "      <td>100</td>\n",
       "      <td>1587258143</td>\n",
       "      <td>90</td>\n",
       "      <td>63.79</td>\n",
       "      <td>74.52</td>\n",
       "      <td>39.58</td>\n",
       "      <td>16.11</td>\n",
       "    </tr>\n",
       "    <tr>\n",
       "      <td>3</td>\n",
       "      <td>Qaanaaq</td>\n",
       "      <td>100</td>\n",
       "      <td>1587258144</td>\n",
       "      <td>88</td>\n",
       "      <td>77.48</td>\n",
       "      <td>-69.36</td>\n",
       "      <td>21.69</td>\n",
       "      <td>19.26</td>\n",
       "    </tr>\n",
       "    <tr>\n",
       "      <td>4</td>\n",
       "      <td>Kozan</td>\n",
       "      <td>23</td>\n",
       "      <td>1587258144</td>\n",
       "      <td>100</td>\n",
       "      <td>37.46</td>\n",
       "      <td>35.82</td>\n",
       "      <td>57.31</td>\n",
       "      <td>4.70</td>\n",
       "    </tr>\n",
       "    <tr>\n",
       "      <td>...</td>\n",
       "      <td>...</td>\n",
       "      <td>...</td>\n",
       "      <td>...</td>\n",
       "      <td>...</td>\n",
       "      <td>...</td>\n",
       "      <td>...</td>\n",
       "      <td>...</td>\n",
       "      <td>...</td>\n",
       "    </tr>\n",
       "    <tr>\n",
       "      <td>548</td>\n",
       "      <td>San</td>\n",
       "      <td>98</td>\n",
       "      <td>1587258002</td>\n",
       "      <td>19</td>\n",
       "      <td>13.30</td>\n",
       "      <td>-4.90</td>\n",
       "      <td>94.66</td>\n",
       "      <td>8.01</td>\n",
       "    </tr>\n",
       "    <tr>\n",
       "      <td>549</td>\n",
       "      <td>Paita</td>\n",
       "      <td>4</td>\n",
       "      <td>1587258258</td>\n",
       "      <td>68</td>\n",
       "      <td>-5.09</td>\n",
       "      <td>-81.11</td>\n",
       "      <td>75.90</td>\n",
       "      <td>11.45</td>\n",
       "    </tr>\n",
       "    <tr>\n",
       "      <td>550</td>\n",
       "      <td>San-Pédro</td>\n",
       "      <td>100</td>\n",
       "      <td>1587258258</td>\n",
       "      <td>86</td>\n",
       "      <td>4.75</td>\n",
       "      <td>-6.64</td>\n",
       "      <td>79.59</td>\n",
       "      <td>9.24</td>\n",
       "    </tr>\n",
       "    <tr>\n",
       "      <td>551</td>\n",
       "      <td>Port Pirie</td>\n",
       "      <td>25</td>\n",
       "      <td>1587258258</td>\n",
       "      <td>72</td>\n",
       "      <td>-33.18</td>\n",
       "      <td>138.02</td>\n",
       "      <td>64.40</td>\n",
       "      <td>6.93</td>\n",
       "    </tr>\n",
       "    <tr>\n",
       "      <td>552</td>\n",
       "      <td>Aksarka</td>\n",
       "      <td>100</td>\n",
       "      <td>1587258006</td>\n",
       "      <td>97</td>\n",
       "      <td>66.56</td>\n",
       "      <td>67.80</td>\n",
       "      <td>32.13</td>\n",
       "      <td>5.88</td>\n",
       "    </tr>\n",
       "  </tbody>\n",
       "</table>\n",
       "<p>553 rows × 8 columns</p>\n",
       "</div>"
      ],
      "text/plain": [
       "               City  Cloudiness        Date  Humidity  Latitude  Longitude  \\\n",
       "0    Guerrero Negro           0  1587258069        61     27.98    -114.06   \n",
       "1          San Juan           0  1587258143        30    -31.54     -68.54   \n",
       "2        Muravlenko         100  1587258143        90     63.79      74.52   \n",
       "3           Qaanaaq         100  1587258144        88     77.48     -69.36   \n",
       "4             Kozan          23  1587258144       100     37.46      35.82   \n",
       "..              ...         ...         ...       ...       ...        ...   \n",
       "548             San          98  1587258002        19     13.30      -4.90   \n",
       "549           Paita           4  1587258258        68     -5.09     -81.11   \n",
       "550       San-Pédro         100  1587258258        86      4.75      -6.64   \n",
       "551      Port Pirie          25  1587258258        72    -33.18     138.02   \n",
       "552         Aksarka         100  1587258006        97     66.56      67.80   \n",
       "\n",
       "     Max Temperature  Wind Speed  \n",
       "0              63.99       21.45  \n",
       "1              75.94        1.01  \n",
       "2              39.58       16.11  \n",
       "3              21.69       19.26  \n",
       "4              57.31        4.70  \n",
       "..               ...         ...  \n",
       "548            94.66        8.01  \n",
       "549            75.90       11.45  \n",
       "550            79.59        9.24  \n",
       "551            64.40        6.93  \n",
       "552            32.13        5.88  \n",
       "\n",
       "[553 rows x 8 columns]"
      ]
     },
     "execution_count": 56,
     "metadata": {},
     "output_type": "execute_result"
    }
   ],
   "source": [
    "city_dict= {\n",
    "    \"City\": name,\n",
    "    'Cloudiness': cloud,\n",
    "    \"Date\":date,\n",
    "    \"Humidity\":humid,\n",
    "    \"Latitude\":lat,\n",
    "    \"Longitude\":longi,\n",
    "    \"Max Temperature\":temp,\n",
    "    \"Wind Speed\":wind,\n",
    "}\n",
    "city_df= pd.DataFrame(city_dict)\n",
    "city_df"
   ]
  },
  {
   "cell_type": "markdown",
   "metadata": {},
   "source": [
    "### Plotting the Data\n",
    "* Use proper labeling of the plots using plot titles (including date of analysis) and axes labels.\n",
    "* Save the plotted figures as .pngs."
   ]
  },
  {
   "cell_type": "markdown",
   "metadata": {},
   "source": [
    "#### Latitude vs. Temperature Plot"
   ]
  },
  {
   "cell_type": "code",
   "execution_count": 60,
   "metadata": {
    "scrolled": true
   },
   "outputs": [],
   "source": []
  },
  {
   "cell_type": "code",
   "execution_count": 79,
   "metadata": {},
   "outputs": [
    {
     "data": {
      "image/png": "[encoded data removed]",
      "text/plain": [
       "<Figure size 432x288 with 1 Axes>"
      ]
     },
     "metadata": {
      "needs_background": "light"
     },
     "output_type": "display_data"
    }
   ],
   "source": [
    "x_temp = city_df['Latitude']\n",
    "y_temp = city_df['Max Temperature']\n",
    "plt.scatter(x_temp, y_temp, alpha=0.5)\n",
    "plt.xlabel('Latitude')\n",
    "plt.ylabel('Temperature')\n",
    "plt.title('Latitude v. Temperature')\n",
    "plt.savefig(\"temp\")\n",
    "plt.show()\n",
    "\n"
   ]
  },
  {
   "cell_type": "markdown",
   "metadata": {},
   "source": [
    "#### Latitude vs. Humidity Plot"
   ]
  },
  {
   "cell_type": "code",
   "execution_count": 80,
   "metadata": {},
   "outputs": [
    {
     "data": {
      "image/png": "[encoded data removed]",
      "text/plain": [
       "<Figure size 432x288 with 1 Axes>"
      ]
     },
     "metadata": {
      "needs_background": "light"
     },
     "output_type": "display_data"
    }
   ],
   "source": [
    "x_hum = city_df['Latitude']\n",
    "y_hum = city_df['Humidity']\n",
    "plt.scatter(x_hum, y_hum, alpha=0.5)\n",
    "plt.xlabel('Latitude')\n",
    "plt.ylabel('Humidity')\n",
    "plt.title(f'Latitude v. Humidity')\n",
    "plt.savefig(\"humidity\")\n",
    "plt.show()"
   ]
  },
  {
   "cell_type": "markdown",
   "metadata": {},
   "source": [
    "#### Latitude vs. Cloudiness Plot"
   ]
  },
  {
   "cell_type": "code",
   "execution_count": 81,
   "metadata": {},
   "outputs": [
    {
     "data": {
      "image/png": "[encoded data removed]",
      "text/plain": [
       "<Figure size 432x288 with 1 Axes>"
      ]
     },
     "metadata": {
      "needs_background": "light"
     },
     "output_type": "display_data"
    }
   ],
   "source": [
    "x_cloud = city_df['Latitude']\n",
    "y_cloud = city_df['Cloudiness']\n",
    "plt.scatter(x_cloud, y_cloud, alpha=0.5)\n",
    "plt.xlabel('Latitude')\n",
    "plt.ylabel('Percentage of Cloud Cover')\n",
    "plt.title('Latitude v. Cloud Cover')\n",
    "plt.savefig(\"Cloud\")\n",
    "plt.show()"
   ]
  },
  {
   "cell_type": "markdown",
   "metadata": {},
   "source": [
    "#### Latitude vs. Wind Speed Plot"
   ]
  },
  {
   "cell_type": "code",
   "execution_count": 78,
   "metadata": {
    "scrolled": true
   },
   "outputs": [
    {
     "data": {
      "image/png": "[encoded data removed]",
      "text/plain": [
       "<Figure size 432x288 with 1 Axes>"
      ]
     },
     "metadata": {
      "needs_background": "light"
     },
     "output_type": "display_data"
    }
   ],
   "source": [
    "x_wind = city_df['Latitude']\n",
    "y_wind = city_df['Wind Speed']\n",
    "plt.scatter(x_wind, y_wind, alpha=0.5)\n",
    "plt.xlabel('Latitude')\n",
    "plt.ylabel('Wind Speed (mph)')\n",
    "plt.title(f'Latitude v. Wind Speed')\n",
    "plt.savefig(\"wind\")\n",
    "plt.show()"
   ]
  },
  {
   "cell_type": "markdown",
   "metadata": {},
   "source": [
    "## Linear Regression"
   ]
  },
  {
   "cell_type": "code",
   "execution_count": 108,
   "metadata": {},
   "outputs": [],
   "source": [
    "# OPTIONAL: Create a function to create Linear Regression plots\n"
   ]
  },
  {
   "cell_type": "code",
   "execution_count": 92,
   "metadata": {},
   "outputs": [],
   "source": [
    "# Create Northern and Southern Hemisphere DataFrames\n",
    "north_df = city_df[city_df[\"Latitude\"] > 0]\n",
    "south_df = city_df[city_df[\"Latitude\"] < 0]"
   ]
  },
  {
   "cell_type": "markdown",
   "metadata": {},
   "source": [
    "####  Northern Hemisphere - Max Temp vs. Latitude Linear Regression"
   ]
  },
  {
   "cell_type": "code",
   "execution_count": 97,
   "metadata": {},
   "outputs": [
    {
     "name": "stdout",
     "output_type": "stream",
     "text": [
      "y = -0.97x +91.65\n",
      "0      64.463001\n",
      "2      29.673412\n",
      "3      16.373511\n",
      "4      55.253135\n",
      "6      55.602876\n",
      "         ...    \n",
      "545    78.569251\n",
      "547    54.689662\n",
      "548    78.724691\n",
      "550    87.031058\n",
      "552    26.982344\n",
      "Name: Latitude, Length: 378, dtype: float64\n"
     ]
    }
   ],
   "source": [
    "x_temp_n=north_df['Latitude']\n",
    "y_temp_n=north_df['Max Temperature']\n",
    "(slope, intercept, rvalue, pvalue, stderr) = linregress(x_temp_n,y_temp_n)\n",
    "line_eq = \"y = \" + str(round(slope,2)) + \"x +\" + str(round(intercept,2))\n",
    "print(line_eq)\n",
    "regress_values = x_temp_n * slope + intercept\n",
    "print(regress_values)"
   ]
  },
  {
   "cell_type": "code",
   "execution_count": 104,
   "metadata": {},
   "outputs": [
    {
     "ename": "ValueError",
     "evalue": "x and y must have same first dimension, but have shapes (378,) and (175,)",
     "output_type": "error",
     "traceback": [
      "\u001b[0;31m---------------------------------------------------------------------------\u001b[0m",
      "\u001b[0;31mValueError\u001b[0m                                Traceback (most recent call last)",
      "\u001b[0;32m<ipython-input-104-3d9623146406>\u001b[0m in \u001b[0;36m<module>\u001b[0;34m\u001b[0m\n\u001b[1;32m      1\u001b[0m \u001b[0mplt\u001b[0m\u001b[0;34m.\u001b[0m\u001b[0mscatter\u001b[0m\u001b[0;34m(\u001b[0m\u001b[0mx_temp_n\u001b[0m\u001b[0;34m,\u001b[0m\u001b[0my_temp_n\u001b[0m\u001b[0;34m)\u001b[0m\u001b[0;34m\u001b[0m\u001b[0;34m\u001b[0m\u001b[0m\n\u001b[0;32m----> 2\u001b[0;31m \u001b[0mplt\u001b[0m\u001b[0;34m.\u001b[0m\u001b[0mplot\u001b[0m\u001b[0;34m(\u001b[0m\u001b[0mx_temp_n\u001b[0m\u001b[0;34m,\u001b[0m\u001b[0mregress_values\u001b[0m\u001b[0;34m,\u001b[0m\u001b[0;34m\"r-\"\u001b[0m\u001b[0;34m)\u001b[0m\u001b[0;34m\u001b[0m\u001b[0;34m\u001b[0m\u001b[0m\n\u001b[0m\u001b[1;32m      3\u001b[0m \u001b[0;34m\u001b[0m\u001b[0m\n\u001b[1;32m      4\u001b[0m \u001b[0;31m# Label plot and annotate the line equation\u001b[0m\u001b[0;34m\u001b[0m\u001b[0;34m\u001b[0m\u001b[0;34m\u001b[0m\u001b[0m\n\u001b[1;32m      5\u001b[0m \u001b[0mplt\u001b[0m\u001b[0;34m.\u001b[0m\u001b[0mxlabel\u001b[0m\u001b[0;34m(\u001b[0m\u001b[0;34m'Latitude'\u001b[0m\u001b[0;34m)\u001b[0m\u001b[0;34m\u001b[0m\u001b[0;34m\u001b[0m\u001b[0m\n",
      "\u001b[0;32m~/opt/anaconda3/lib/python3.7/site-packages/matplotlib/pyplot.py\u001b[0m in \u001b[0;36mplot\u001b[0;34m(scalex, scaley, data, *args, **kwargs)\u001b[0m\n\u001b[1;32m   2793\u001b[0m     return gca().plot(\n\u001b[1;32m   2794\u001b[0m         *args, scalex=scalex, scaley=scaley, **({\"data\": data} if data\n\u001b[0;32m-> 2795\u001b[0;31m         is not None else {}), **kwargs)\n\u001b[0m\u001b[1;32m   2796\u001b[0m \u001b[0;34m\u001b[0m\u001b[0m\n\u001b[1;32m   2797\u001b[0m \u001b[0;34m\u001b[0m\u001b[0m\n",
      "\u001b[0;32m~/opt/anaconda3/lib/python3.7/site-packages/matplotlib/axes/_axes.py\u001b[0m in \u001b[0;36mplot\u001b[0;34m(self, scalex, scaley, data, *args, **kwargs)\u001b[0m\n\u001b[1;32m   1664\u001b[0m         \"\"\"\n\u001b[1;32m   1665\u001b[0m         \u001b[0mkwargs\u001b[0m \u001b[0;34m=\u001b[0m \u001b[0mcbook\u001b[0m\u001b[0;34m.\u001b[0m\u001b[0mnormalize_kwargs\u001b[0m\u001b[0;34m(\u001b[0m\u001b[0mkwargs\u001b[0m\u001b[0;34m,\u001b[0m \u001b[0mmlines\u001b[0m\u001b[0;34m.\u001b[0m\u001b[0mLine2D\u001b[0m\u001b[0;34m.\u001b[0m\u001b[0m_alias_map\u001b[0m\u001b[0;34m)\u001b[0m\u001b[0;34m\u001b[0m\u001b[0;34m\u001b[0m\u001b[0m\n\u001b[0;32m-> 1666\u001b[0;31m         \u001b[0mlines\u001b[0m \u001b[0;34m=\u001b[0m \u001b[0;34m[\u001b[0m\u001b[0;34m*\u001b[0m\u001b[0mself\u001b[0m\u001b[0;34m.\u001b[0m\u001b[0m_get_lines\u001b[0m\u001b[0;34m(\u001b[0m\u001b[0;34m*\u001b[0m\u001b[0margs\u001b[0m\u001b[0;34m,\u001b[0m \u001b[0mdata\u001b[0m\u001b[0;34m=\u001b[0m\u001b[0mdata\u001b[0m\u001b[0;34m,\u001b[0m \u001b[0;34m**\u001b[0m\u001b[0mkwargs\u001b[0m\u001b[0;34m)\u001b[0m\u001b[0;34m]\u001b[0m\u001b[0;34m\u001b[0m\u001b[0;34m\u001b[0m\u001b[0m\n\u001b[0m\u001b[1;32m   1667\u001b[0m         \u001b[0;32mfor\u001b[0m \u001b[0mline\u001b[0m \u001b[0;32min\u001b[0m \u001b[0mlines\u001b[0m\u001b[0;34m:\u001b[0m\u001b[0;34m\u001b[0m\u001b[0;34m\u001b[0m\u001b[0m\n\u001b[1;32m   1668\u001b[0m             \u001b[0mself\u001b[0m\u001b[0;34m.\u001b[0m\u001b[0madd_line\u001b[0m\u001b[0;34m(\u001b[0m\u001b[0mline\u001b[0m\u001b[0;34m)\u001b[0m\u001b[0;34m\u001b[0m\u001b[0;34m\u001b[0m\u001b[0m\n",
      "\u001b[0;32m~/opt/anaconda3/lib/python3.7/site-packages/matplotlib/axes/_base.py\u001b[0m in \u001b[0;36m__call__\u001b[0;34m(self, *args, **kwargs)\u001b[0m\n\u001b[1;32m    223\u001b[0m                 \u001b[0mthis\u001b[0m \u001b[0;34m+=\u001b[0m \u001b[0margs\u001b[0m\u001b[0;34m[\u001b[0m\u001b[0;36m0\u001b[0m\u001b[0;34m]\u001b[0m\u001b[0;34m,\u001b[0m\u001b[0;34m\u001b[0m\u001b[0;34m\u001b[0m\u001b[0m\n\u001b[1;32m    224\u001b[0m                 \u001b[0margs\u001b[0m \u001b[0;34m=\u001b[0m \u001b[0margs\u001b[0m\u001b[0;34m[\u001b[0m\u001b[0;36m1\u001b[0m\u001b[0;34m:\u001b[0m\u001b[0;34m]\u001b[0m\u001b[0;34m\u001b[0m\u001b[0;34m\u001b[0m\u001b[0m\n\u001b[0;32m--> 225\u001b[0;31m             \u001b[0;32myield\u001b[0m \u001b[0;32mfrom\u001b[0m \u001b[0mself\u001b[0m\u001b[0;34m.\u001b[0m\u001b[0m_plot_args\u001b[0m\u001b[0;34m(\u001b[0m\u001b[0mthis\u001b[0m\u001b[0;34m,\u001b[0m \u001b[0mkwargs\u001b[0m\u001b[0;34m)\u001b[0m\u001b[0;34m\u001b[0m\u001b[0;34m\u001b[0m\u001b[0m\n\u001b[0m\u001b[1;32m    226\u001b[0m \u001b[0;34m\u001b[0m\u001b[0m\n\u001b[1;32m    227\u001b[0m     \u001b[0;32mdef\u001b[0m \u001b[0mget_next_color\u001b[0m\u001b[0;34m(\u001b[0m\u001b[0mself\u001b[0m\u001b[0;34m)\u001b[0m\u001b[0;34m:\u001b[0m\u001b[0;34m\u001b[0m\u001b[0;34m\u001b[0m\u001b[0m\n",
      "\u001b[0;32m~/opt/anaconda3/lib/python3.7/site-packages/matplotlib/axes/_base.py\u001b[0m in \u001b[0;36m_plot_args\u001b[0;34m(self, tup, kwargs)\u001b[0m\n\u001b[1;32m    389\u001b[0m             \u001b[0mx\u001b[0m\u001b[0;34m,\u001b[0m \u001b[0my\u001b[0m \u001b[0;34m=\u001b[0m \u001b[0mindex_of\u001b[0m\u001b[0;34m(\u001b[0m\u001b[0mtup\u001b[0m\u001b[0;34m[\u001b[0m\u001b[0;34m-\u001b[0m\u001b[0;36m1\u001b[0m\u001b[0;34m]\u001b[0m\u001b[0;34m)\u001b[0m\u001b[0;34m\u001b[0m\u001b[0;34m\u001b[0m\u001b[0m\n\u001b[1;32m    390\u001b[0m \u001b[0;34m\u001b[0m\u001b[0m\n\u001b[0;32m--> 391\u001b[0;31m         \u001b[0mx\u001b[0m\u001b[0;34m,\u001b[0m \u001b[0my\u001b[0m \u001b[0;34m=\u001b[0m \u001b[0mself\u001b[0m\u001b[0;34m.\u001b[0m\u001b[0m_xy_from_xy\u001b[0m\u001b[0;34m(\u001b[0m\u001b[0mx\u001b[0m\u001b[0;34m,\u001b[0m \u001b[0my\u001b[0m\u001b[0;34m)\u001b[0m\u001b[0;34m\u001b[0m\u001b[0;34m\u001b[0m\u001b[0m\n\u001b[0m\u001b[1;32m    392\u001b[0m \u001b[0;34m\u001b[0m\u001b[0m\n\u001b[1;32m    393\u001b[0m         \u001b[0;32mif\u001b[0m \u001b[0mself\u001b[0m\u001b[0;34m.\u001b[0m\u001b[0mcommand\u001b[0m \u001b[0;34m==\u001b[0m \u001b[0;34m'plot'\u001b[0m\u001b[0;34m:\u001b[0m\u001b[0;34m\u001b[0m\u001b[0;34m\u001b[0m\u001b[0m\n",
      "\u001b[0;32m~/opt/anaconda3/lib/python3.7/site-packages/matplotlib/axes/_base.py\u001b[0m in \u001b[0;36m_xy_from_xy\u001b[0;34m(self, x, y)\u001b[0m\n\u001b[1;32m    268\u001b[0m         \u001b[0;32mif\u001b[0m \u001b[0mx\u001b[0m\u001b[0;34m.\u001b[0m\u001b[0mshape\u001b[0m\u001b[0;34m[\u001b[0m\u001b[0;36m0\u001b[0m\u001b[0;34m]\u001b[0m \u001b[0;34m!=\u001b[0m \u001b[0my\u001b[0m\u001b[0;34m.\u001b[0m\u001b[0mshape\u001b[0m\u001b[0;34m[\u001b[0m\u001b[0;36m0\u001b[0m\u001b[0;34m]\u001b[0m\u001b[0;34m:\u001b[0m\u001b[0;34m\u001b[0m\u001b[0;34m\u001b[0m\u001b[0m\n\u001b[1;32m    269\u001b[0m             raise ValueError(\"x and y must have same first dimension, but \"\n\u001b[0;32m--> 270\u001b[0;31m                              \"have shapes {} and {}\".format(x.shape, y.shape))\n\u001b[0m\u001b[1;32m    271\u001b[0m         \u001b[0;32mif\u001b[0m \u001b[0mx\u001b[0m\u001b[0;34m.\u001b[0m\u001b[0mndim\u001b[0m \u001b[0;34m>\u001b[0m \u001b[0;36m2\u001b[0m \u001b[0;32mor\u001b[0m \u001b[0my\u001b[0m\u001b[0;34m.\u001b[0m\u001b[0mndim\u001b[0m \u001b[0;34m>\u001b[0m \u001b[0;36m2\u001b[0m\u001b[0;34m:\u001b[0m\u001b[0;34m\u001b[0m\u001b[0;34m\u001b[0m\u001b[0m\n\u001b[1;32m    272\u001b[0m             raise ValueError(\"x and y can be no greater than 2-D, but have \"\n",
      "\u001b[0;31mValueError\u001b[0m: x and y must have same first dimension, but have shapes (378,) and (175,)"
     ]
    },
    {
     "data": {
      "image/png": "[encoded data removed]",
      "text/plain": [
       "<Figure size 432x288 with 1 Axes>"
      ]
     },
     "metadata": {
      "needs_background": "light"
     },
     "output_type": "display_data"
    }
   ],
   "source": [
    "plt.scatter(x_temp_n,y_temp_n)\n",
    "plt.plot(x_temp_n,regress_values,\"r-\")\n",
    "\n",
    "# Label plot and annotate the line equation\n",
    "plt.xlabel('Latitude')\n",
    "plt.ylabel('Maximum Temperature')\n",
    "plt.annotate(line_eq,(20,15),fontsize=15,color=\"red\")\n",
    "plt.title(\"Latitude vs. Maximum Temperature in the Northern Hemisphere\")\n",
    "# Print r square value\n",
    "print(f\"The r-squared is: {rvalue**2}\")\n",
    "\n",
    "# Show plot\n",
    "plt.show()\n"
   ]
  },
  {
   "cell_type": "markdown",
   "metadata": {},
   "source": [
    "####  Southern Hemisphere - Max Temp vs. Latitude Linear Regression"
   ]
  },
  {
   "cell_type": "code",
   "execution_count": 100,
   "metadata": {},
   "outputs": [
    {
     "name": "stdout",
     "output_type": "stream",
     "text": [
      "y = 0.51x +80.92\n",
      "1      64.800193\n",
      "5      62.981130\n",
      "7      63.722040\n",
      "17     52.914964\n",
      "18     53.758069\n",
      "         ...    \n",
      "539    70.645723\n",
      "542    69.536912\n",
      "546    78.259219\n",
      "549    78.315426\n",
      "551    63.962198\n",
      "Name: Latitude, Length: 175, dtype: float64\n"
     ]
    }
   ],
   "source": [
    "x_temp_s=south_df['Latitude']\n",
    "y_temp_s=south_df['Max Temperature']\n",
    "(slope, intercept, rvalue, pvalue, stderr) = linregress(x_temp_s,y_temp_s)\n",
    "line_eq = \"y = \" + str(round(slope,2)) + \"x +\" + str(round(intercept,2))\n",
    "print(line_eq)\n",
    "regress_values = x_temp_s * slope + intercept\n",
    "print(regress_values)"
   ]
  },
  {
   "cell_type": "code",
   "execution_count": 102,
   "metadata": {},
   "outputs": [
    {
     "name": "stdout",
     "output_type": "stream",
     "text": [
      "The r-squared is: 0.48164658042708486\n"
     ]
    },
    {
     "data": {
      "image/png": "[encoded data removed]",
      "text/plain": [
       "<Figure size 432x288 with 1 Axes>"
      ]
     },
     "metadata": {
      "needs_background": "light"
     },
     "output_type": "display_data"
    }
   ],
   "source": [
    "plt.scatter(x_temp_s,y_temp_s)\n",
    "plt.plot(x_temp_s,regress_values,\"r-\")\n",
    "\n",
    "# Label plot and annotate the line equation\n",
    "plt.xlabel('Latitude')\n",
    "plt.ylabel('Maximum Temperature')\n",
    "plt.annotate(line_eq,(20,15),fontsize=15,color=\"red\")\n",
    "plt.title(\"Latitude vs. Maximum Temperature in the Southern Hemisphere\")\n",
    "# Print r square value\n",
    "print(f\"The r-squared is: {rvalue**2}\")\n",
    "\n",
    "# Show plot\n",
    "plt.show()\n"
   ]
  },
  {
   "cell_type": "markdown",
   "metadata": {},
   "source": [
    "####  Northern Hemisphere - Humidity (%) vs. Latitude Linear Regression"
   ]
  },
  {
   "cell_type": "code",
   "execution_count": 107,
   "metadata": {},
   "outputs": [
    {
     "name": "stdout",
     "output_type": "stream",
     "text": [
      "y = 0.3x +56.78\n",
      "0      65.091247\n",
      "2      75.730596\n",
      "3      79.797971\n",
      "4      67.907807\n",
      "6      67.800849\n",
      "         ...    \n",
      "545    60.777274\n",
      "547    68.080129\n",
      "548    60.729737\n",
      "550    58.189485\n",
      "552    76.553579\n",
      "Name: Latitude, Length: 378, dtype: float64\n"
     ]
    }
   ],
   "source": [
    "x_hum_n=north_df['Latitude']\n",
    "y_hum_n=north_df['Humidity']\n",
    "(slope, intercept, rvalue, pvalue, stderr) = linregress(x_hum_n,y_hum_n)\n",
    "line_eq = \"y = \" + str(round(slope,2)) + \"x +\" + str(round(intercept,2))\n",
    "print(line_eq)\n",
    "regress_values = x_hum_n * slope + intercept\n",
    "print(regress_values)"
   ]
  },
  {
   "cell_type": "code",
   "execution_count": 111,
   "metadata": {},
   "outputs": [
    {
     "ename": "ValueError",
     "evalue": "x and y must have same first dimension, but have shapes (378,) and (175,)",
     "output_type": "error",
     "traceback": [
      "\u001b[0;31m---------------------------------------------------------------------------\u001b[0m",
      "\u001b[0;31mValueError\u001b[0m                                Traceback (most recent call last)",
      "\u001b[0;32m<ipython-input-111-d00e66e28fe8>\u001b[0m in \u001b[0;36m<module>\u001b[0;34m\u001b[0m\n\u001b[1;32m      1\u001b[0m \u001b[0mplt\u001b[0m\u001b[0;34m.\u001b[0m\u001b[0mscatter\u001b[0m\u001b[0;34m(\u001b[0m\u001b[0mx_hum_n\u001b[0m\u001b[0;34m,\u001b[0m\u001b[0my_hum_n\u001b[0m\u001b[0;34m)\u001b[0m\u001b[0;34m\u001b[0m\u001b[0;34m\u001b[0m\u001b[0m\n\u001b[0;32m----> 2\u001b[0;31m \u001b[0mplt\u001b[0m\u001b[0;34m.\u001b[0m\u001b[0mplot\u001b[0m\u001b[0;34m(\u001b[0m\u001b[0mx_hum_n\u001b[0m\u001b[0;34m,\u001b[0m\u001b[0mregress_values\u001b[0m\u001b[0;34m,\u001b[0m\u001b[0;34m\"r-\"\u001b[0m\u001b[0;34m)\u001b[0m\u001b[0;34m\u001b[0m\u001b[0;34m\u001b[0m\u001b[0m\n\u001b[0m\u001b[1;32m      3\u001b[0m \u001b[0;34m\u001b[0m\u001b[0m\n\u001b[1;32m      4\u001b[0m \u001b[0;31m# Label plot and annotate the line equation\u001b[0m\u001b[0;34m\u001b[0m\u001b[0;34m\u001b[0m\u001b[0;34m\u001b[0m\u001b[0m\n\u001b[1;32m      5\u001b[0m \u001b[0mplt\u001b[0m\u001b[0;34m.\u001b[0m\u001b[0mxlabel\u001b[0m\u001b[0;34m(\u001b[0m\u001b[0;34m'Latitude'\u001b[0m\u001b[0;34m)\u001b[0m\u001b[0;34m\u001b[0m\u001b[0;34m\u001b[0m\u001b[0m\n",
      "\u001b[0;32m~/opt/anaconda3/lib/python3.7/site-packages/matplotlib/pyplot.py\u001b[0m in \u001b[0;36mplot\u001b[0;34m(scalex, scaley, data, *args, **kwargs)\u001b[0m\n\u001b[1;32m   2793\u001b[0m     return gca().plot(\n\u001b[1;32m   2794\u001b[0m         *args, scalex=scalex, scaley=scaley, **({\"data\": data} if data\n\u001b[0;32m-> 2795\u001b[0;31m         is not None else {}), **kwargs)\n\u001b[0m\u001b[1;32m   2796\u001b[0m \u001b[0;34m\u001b[0m\u001b[0m\n\u001b[1;32m   2797\u001b[0m \u001b[0;34m\u001b[0m\u001b[0m\n",
      "\u001b[0;32m~/opt/anaconda3/lib/python3.7/site-packages/matplotlib/axes/_axes.py\u001b[0m in \u001b[0;36mplot\u001b[0;34m(self, scalex, scaley, data, *args, **kwargs)\u001b[0m\n\u001b[1;32m   1664\u001b[0m         \"\"\"\n\u001b[1;32m   1665\u001b[0m         \u001b[0mkwargs\u001b[0m \u001b[0;34m=\u001b[0m \u001b[0mcbook\u001b[0m\u001b[0;34m.\u001b[0m\u001b[0mnormalize_kwargs\u001b[0m\u001b[0;34m(\u001b[0m\u001b[0mkwargs\u001b[0m\u001b[0;34m,\u001b[0m \u001b[0mmlines\u001b[0m\u001b[0;34m.\u001b[0m\u001b[0mLine2D\u001b[0m\u001b[0;34m.\u001b[0m\u001b[0m_alias_map\u001b[0m\u001b[0;34m)\u001b[0m\u001b[0;34m\u001b[0m\u001b[0;34m\u001b[0m\u001b[0m\n\u001b[0;32m-> 1666\u001b[0;31m         \u001b[0mlines\u001b[0m \u001b[0;34m=\u001b[0m \u001b[0;34m[\u001b[0m\u001b[0;34m*\u001b[0m\u001b[0mself\u001b[0m\u001b[0;34m.\u001b[0m\u001b[0m_get_lines\u001b[0m\u001b[0;34m(\u001b[0m\u001b[0;34m*\u001b[0m\u001b[0margs\u001b[0m\u001b[0;34m,\u001b[0m \u001b[0mdata\u001b[0m\u001b[0;34m=\u001b[0m\u001b[0mdata\u001b[0m\u001b[0;34m,\u001b[0m \u001b[0;34m**\u001b[0m\u001b[0mkwargs\u001b[0m\u001b[0;34m)\u001b[0m\u001b[0;34m]\u001b[0m\u001b[0;34m\u001b[0m\u001b[0;34m\u001b[0m\u001b[0m\n\u001b[0m\u001b[1;32m   1667\u001b[0m         \u001b[0;32mfor\u001b[0m \u001b[0mline\u001b[0m \u001b[0;32min\u001b[0m \u001b[0mlines\u001b[0m\u001b[0;34m:\u001b[0m\u001b[0;34m\u001b[0m\u001b[0;34m\u001b[0m\u001b[0m\n\u001b[1;32m   1668\u001b[0m             \u001b[0mself\u001b[0m\u001b[0;34m.\u001b[0m\u001b[0madd_line\u001b[0m\u001b[0;34m(\u001b[0m\u001b[0mline\u001b[0m\u001b[0;34m)\u001b[0m\u001b[0;34m\u001b[0m\u001b[0;34m\u001b[0m\u001b[0m\n",
      "\u001b[0;32m~/opt/anaconda3/lib/python3.7/site-packages/matplotlib/axes/_base.py\u001b[0m in \u001b[0;36m__call__\u001b[0;34m(self, *args, **kwargs)\u001b[0m\n\u001b[1;32m    223\u001b[0m                 \u001b[0mthis\u001b[0m \u001b[0;34m+=\u001b[0m \u001b[0margs\u001b[0m\u001b[0;34m[\u001b[0m\u001b[0;36m0\u001b[0m\u001b[0;34m]\u001b[0m\u001b[0;34m,\u001b[0m\u001b[0;34m\u001b[0m\u001b[0;34m\u001b[0m\u001b[0m\n\u001b[1;32m    224\u001b[0m                 \u001b[0margs\u001b[0m \u001b[0;34m=\u001b[0m \u001b[0margs\u001b[0m\u001b[0;34m[\u001b[0m\u001b[0;36m1\u001b[0m\u001b[0;34m:\u001b[0m\u001b[0;34m]\u001b[0m\u001b[0;34m\u001b[0m\u001b[0;34m\u001b[0m\u001b[0m\n\u001b[0;32m--> 225\u001b[0;31m             \u001b[0;32myield\u001b[0m \u001b[0;32mfrom\u001b[0m \u001b[0mself\u001b[0m\u001b[0;34m.\u001b[0m\u001b[0m_plot_args\u001b[0m\u001b[0;34m(\u001b[0m\u001b[0mthis\u001b[0m\u001b[0;34m,\u001b[0m \u001b[0mkwargs\u001b[0m\u001b[0;34m)\u001b[0m\u001b[0;34m\u001b[0m\u001b[0;34m\u001b[0m\u001b[0m\n\u001b[0m\u001b[1;32m    226\u001b[0m \u001b[0;34m\u001b[0m\u001b[0m\n\u001b[1;32m    227\u001b[0m     \u001b[0;32mdef\u001b[0m \u001b[0mget_next_color\u001b[0m\u001b[0;34m(\u001b[0m\u001b[0mself\u001b[0m\u001b[0;34m)\u001b[0m\u001b[0;34m:\u001b[0m\u001b[0;34m\u001b[0m\u001b[0;34m\u001b[0m\u001b[0m\n",
      "\u001b[0;32m~/opt/anaconda3/lib/python3.7/site-packages/matplotlib/axes/_base.py\u001b[0m in \u001b[0;36m_plot_args\u001b[0;34m(self, tup, kwargs)\u001b[0m\n\u001b[1;32m    389\u001b[0m             \u001b[0mx\u001b[0m\u001b[0;34m,\u001b[0m \u001b[0my\u001b[0m \u001b[0;34m=\u001b[0m \u001b[0mindex_of\u001b[0m\u001b[0;34m(\u001b[0m\u001b[0mtup\u001b[0m\u001b[0;34m[\u001b[0m\u001b[0;34m-\u001b[0m\u001b[0;36m1\u001b[0m\u001b[0;34m]\u001b[0m\u001b[0;34m)\u001b[0m\u001b[0;34m\u001b[0m\u001b[0;34m\u001b[0m\u001b[0m\n\u001b[1;32m    390\u001b[0m \u001b[0;34m\u001b[0m\u001b[0m\n\u001b[0;32m--> 391\u001b[0;31m         \u001b[0mx\u001b[0m\u001b[0;34m,\u001b[0m \u001b[0my\u001b[0m \u001b[0;34m=\u001b[0m \u001b[0mself\u001b[0m\u001b[0;34m.\u001b[0m\u001b[0m_xy_from_xy\u001b[0m\u001b[0;34m(\u001b[0m\u001b[0mx\u001b[0m\u001b[0;34m,\u001b[0m \u001b[0my\u001b[0m\u001b[0;34m)\u001b[0m\u001b[0;34m\u001b[0m\u001b[0;34m\u001b[0m\u001b[0m\n\u001b[0m\u001b[1;32m    392\u001b[0m \u001b[0;34m\u001b[0m\u001b[0m\n\u001b[1;32m    393\u001b[0m         \u001b[0;32mif\u001b[0m \u001b[0mself\u001b[0m\u001b[0;34m.\u001b[0m\u001b[0mcommand\u001b[0m \u001b[0;34m==\u001b[0m \u001b[0;34m'plot'\u001b[0m\u001b[0;34m:\u001b[0m\u001b[0;34m\u001b[0m\u001b[0;34m\u001b[0m\u001b[0m\n",
      "\u001b[0;32m~/opt/anaconda3/lib/python3.7/site-packages/matplotlib/axes/_base.py\u001b[0m in \u001b[0;36m_xy_from_xy\u001b[0;34m(self, x, y)\u001b[0m\n\u001b[1;32m    268\u001b[0m         \u001b[0;32mif\u001b[0m \u001b[0mx\u001b[0m\u001b[0;34m.\u001b[0m\u001b[0mshape\u001b[0m\u001b[0;34m[\u001b[0m\u001b[0;36m0\u001b[0m\u001b[0;34m]\u001b[0m \u001b[0;34m!=\u001b[0m \u001b[0my\u001b[0m\u001b[0;34m.\u001b[0m\u001b[0mshape\u001b[0m\u001b[0;34m[\u001b[0m\u001b[0;36m0\u001b[0m\u001b[0;34m]\u001b[0m\u001b[0;34m:\u001b[0m\u001b[0;34m\u001b[0m\u001b[0;34m\u001b[0m\u001b[0m\n\u001b[1;32m    269\u001b[0m             raise ValueError(\"x and y must have same first dimension, but \"\n\u001b[0;32m--> 270\u001b[0;31m                              \"have shapes {} and {}\".format(x.shape, y.shape))\n\u001b[0m\u001b[1;32m    271\u001b[0m         \u001b[0;32mif\u001b[0m \u001b[0mx\u001b[0m\u001b[0;34m.\u001b[0m\u001b[0mndim\u001b[0m \u001b[0;34m>\u001b[0m \u001b[0;36m2\u001b[0m \u001b[0;32mor\u001b[0m \u001b[0my\u001b[0m\u001b[0;34m.\u001b[0m\u001b[0mndim\u001b[0m \u001b[0;34m>\u001b[0m \u001b[0;36m2\u001b[0m\u001b[0;34m:\u001b[0m\u001b[0;34m\u001b[0m\u001b[0;34m\u001b[0m\u001b[0m\n\u001b[1;32m    272\u001b[0m             raise ValueError(\"x and y can be no greater than 2-D, but have \"\n",
      "\u001b[0;31mValueError\u001b[0m: x and y must have same first dimension, but have shapes (378,) and (175,)"
     ]
    },
    {
     "data": {
      "image/png": "[encoded data removed]",
      "text/plain": [
       "<Figure size 432x288 with 1 Axes>"
      ]
     },
     "metadata": {
      "needs_background": "light"
     },
     "output_type": "display_data"
    }
   ],
   "source": [
    "plt.scatter(x_hum_n,y_hum_n)\n",
    "plt.plot(x_hum_n,regress_values,\"r-\")\n",
    "\n",
    "# Label plot and annotate the line equation\n",
    "plt.xlabel('Latitude')\n",
    "plt.ylabel('Humidity')\n",
    "plt.annotate(line_eq,(20,15),fontsize=15,color=\"red\")\n",
    "plt.title(\"Latitude vs. Humidity in the Northern Hemisphere\")\n",
    "# Print r square value\n",
    "print(f\"The r-squared is: {rvalue**2}\")\n",
    "\n",
    "# Show plot\n",
    "plt.show()\n"
   ]
  },
  {
   "cell_type": "markdown",
   "metadata": {},
   "source": [
    "####  Southern Hemisphere - Humidity (%) vs. Latitude Linear Regression"
   ]
  },
  {
   "cell_type": "code",
   "execution_count": 109,
   "metadata": {},
   "outputs": [
    {
     "name": "stdout",
     "output_type": "stream",
     "text": [
      "y = 0.32x +79.29\n",
      "1      69.152348\n",
      "5      68.008589\n",
      "7      68.474446\n",
      "17     61.679362\n",
      "18     62.209475\n",
      "         ...    \n",
      "539    72.827797\n",
      "542    72.130618\n",
      "546    77.614877\n",
      "549    77.650218\n",
      "551    68.625447\n",
      "Name: Latitude, Length: 175, dtype: float64\n"
     ]
    }
   ],
   "source": [
    "x_hum_s=south_df['Latitude']\n",
    "y_hum_s=south_df['Humidity']\n",
    "(slope, intercept, rvalue, pvalue, stderr) = linregress(x_hum_s,y_hum_s)\n",
    "line_eq = \"y = \" + str(round(slope,2)) + \"x +\" + str(round(intercept,2))\n",
    "print(line_eq)\n",
    "regress_values = x_hum_s * slope + intercept\n",
    "print(regress_values)"
   ]
  },
  {
   "cell_type": "code",
   "execution_count": 110,
   "metadata": {},
   "outputs": [
    {
     "name": "stdout",
     "output_type": "stream",
     "text": [
      "The r-squared is: 0.06829167055555009\n"
     ]
    },
    {
     "data": {
      "image/png": "[encoded data removed]",
      "text/plain": [
       "<Figure size 432x288 with 1 Axes>"
      ]
     },
     "metadata": {
      "needs_background": "light"
     },
     "output_type": "display_data"
    }
   ],
   "source": [
    "plt.scatter(x_hum_s,y_hum_s)\n",
    "plt.plot(x_hum_s,regress_values,\"r-\")\n",
    "\n",
    "# Label plot and annotate the line equation\n",
    "plt.xlabel('Latitude')\n",
    "plt.ylabel('Humidity')\n",
    "plt.annotate(line_eq,(20,15),fontsize=15,color=\"red\")\n",
    "plt.title(\"Latitude vs. Humidity in the Southern Hemisphere\")\n",
    "# Print r square value\n",
    "print(f\"The r-squared is: {rvalue**2}\")\n",
    "\n",
    "# Show plot\n",
    "plt.show()"
   ]
  },
  {
   "cell_type": "markdown",
   "metadata": {},
   "source": [
    "####  Northern Hemisphere - Cloudiness (%) vs. Latitude Linear Regression"
   ]
  },
  {
   "cell_type": "code",
   "execution_count": 112,
   "metadata": {},
   "outputs": [
    {
     "name": "stdout",
     "output_type": "stream",
     "text": [
      "y = 0.3x +56.78\n",
      "0      65.091247\n",
      "2      75.730596\n",
      "3      79.797971\n",
      "4      67.907807\n",
      "6      67.800849\n",
      "         ...    \n",
      "545    60.777274\n",
      "547    68.080129\n",
      "548    60.729737\n",
      "550    58.189485\n",
      "552    76.553579\n",
      "Name: Latitude, Length: 378, dtype: float64\n"
     ]
    }
   ],
   "source": [
    "x_cloud_n=north_df['Latitude']\n",
    "y_cloud_n=north_df['Humidity']\n",
    "(slope, intercept, rvalue, pvalue, stderr) = linregress(x_cloud_n,y_cloud_n)\n",
    "line_eq = \"y = \" + str(round(slope,2)) + \"x +\" + str(round(intercept,2))\n",
    "print(line_eq)\n",
    "regress_values = x_cloud_n * slope + intercept\n",
    "print(regress_values)"
   ]
  },
  {
   "cell_type": "code",
   "execution_count": 113,
   "metadata": {},
   "outputs": [
    {
     "name": "stdout",
     "output_type": "stream",
     "text": [
      "The r-squared is: 0.06993110317292671\n"
     ]
    },
    {
     "data": {
      "image/png": "[encoded data removed]",
      "text/plain": [
       "<Figure size 432x288 with 1 Axes>"
      ]
     },
     "metadata": {
      "needs_background": "light"
     },
     "output_type": "display_data"
    }
   ],
   "source": [
    "plt.scatter(x_cloud_n,y_cloud_n)\n",
    "plt.plot(x_cloud_n,regress_values,\"r-\")\n",
    "\n",
    "# Label plot and annotate the line equation\n",
    "plt.xlabel('Latitude')\n",
    "plt.ylabel('Cloudiness')\n",
    "plt.annotate(line_eq,(20,15),fontsize=15,color=\"red\")\n",
    "plt.title(\"Latitude vs. Cloudiness in the Northern Hemisphere\")\n",
    "# Print r square value\n",
    "print(f\"The r-squared is: {rvalue**2}\")\n",
    "\n",
    "# Show plot\n",
    "plt.show()"
   ]
  },
  {
   "cell_type": "markdown",
   "metadata": {},
   "source": [
    "####  Southern Hemisphere - Cloudiness (%) vs. Latitude Linear Regression"
   ]
  },
  {
   "cell_type": "code",
   "execution_count": 114,
   "metadata": {},
   "outputs": [
    {
     "name": "stdout",
     "output_type": "stream",
     "text": [
      "y = 0.32x +79.29\n",
      "1      69.152348\n",
      "5      68.008589\n",
      "7      68.474446\n",
      "17     61.679362\n",
      "18     62.209475\n",
      "         ...    \n",
      "539    72.827797\n",
      "542    72.130618\n",
      "546    77.614877\n",
      "549    77.650218\n",
      "551    68.625447\n",
      "Name: Latitude, Length: 175, dtype: float64\n"
     ]
    }
   ],
   "source": [
    "x_cloud_s=south_df['Latitude']\n",
    "y_cloud_s=south_df['Humidity']\n",
    "(slope, intercept, rvalue, pvalue, stderr) = linregress(x_cloud_s,y_cloud_s)\n",
    "line_eq = \"y = \" + str(round(slope,2)) + \"x +\" + str(round(intercept,2))\n",
    "print(line_eq)\n",
    "regress_values = x_cloud_s * slope + intercept\n",
    "print(regress_values)"
   ]
  },
  {
   "cell_type": "code",
   "execution_count": 115,
   "metadata": {},
   "outputs": [
    {
     "name": "stdout",
     "output_type": "stream",
     "text": [
      "The r-squared is: 0.06829167055555009\n"
     ]
    },
    {
     "data": {
      "image/png": "[encoded data removed]",
      "text/plain": [
       "<Figure size 432x288 with 1 Axes>"
      ]
     },
     "metadata": {
      "needs_background": "light"
     },
     "output_type": "display_data"
    }
   ],
   "source": [
    "plt.scatter(x_cloud_s,y_cloud_s)\n",
    "plt.plot(x_cloud_s,regress_values,\"r-\")\n",
    "\n",
    "# Label plot and annotate the line equation\n",
    "plt.xlabel('Latitude')\n",
    "plt.ylabel('Cloudiness')\n",
    "plt.annotate(line_eq,(20,15),fontsize=15,color=\"red\")\n",
    "plt.title(\"Latitude vs. Cloudiness in the Southern Hemisphere\")\n",
    "# Print r square value\n",
    "print(f\"The r-squared is: {rvalue**2}\")\n",
    "\n",
    "# Show plot\n",
    "plt.show()"
   ]
  },
  {
   "cell_type": "markdown",
   "metadata": {},
   "source": [
    "####  Northern Hemisphere - Wind Speed (mph) vs. Latitude Linear Regression"
   ]
  },
  {
   "cell_type": "code",
   "execution_count": null,
   "metadata": {},
   "outputs": [],
   "source": []
  },
  {
   "cell_type": "code",
   "execution_count": 116,
   "metadata": {},
   "outputs": [
    {
     "name": "stdout",
     "output_type": "stream",
     "text": [
      "y = 0.04x +7.22\n",
      "0       8.265051\n",
      "2       9.608921\n",
      "3      10.122676\n",
      "4       8.620815\n",
      "6       8.607305\n",
      "         ...    \n",
      "545     7.720148\n",
      "547     8.642581\n",
      "548     7.714143\n",
      "550     7.393281\n",
      "552     9.712873\n",
      "Name: Latitude, Length: 378, dtype: float64\n"
     ]
    }
   ],
   "source": [
    "x_wind_n=north_df['Latitude']\n",
    "y_wind_n=north_df['Wind Speed']\n",
    "(slope, intercept, rvalue, pvalue, stderr) = linregress(x_wind_n,y_wind_n)\n",
    "line_eq = \"y = \" + str(round(slope,2)) + \"x +\" + str(round(intercept,2))\n",
    "print(line_eq)\n",
    "regress_values = x_wind_n * slope + intercept\n",
    "print(regress_values)"
   ]
  },
  {
   "cell_type": "code",
   "execution_count": 117,
   "metadata": {},
   "outputs": [
    {
     "name": "stdout",
     "output_type": "stream",
     "text": [
      "The r-squared is: 0.018133697100371594\n"
     ]
    },
    {
     "data": {
      "image/png": "[encoded data removed]",
      "text/plain": [
       "<Figure size 432x288 with 1 Axes>"
      ]
     },
     "metadata": {
      "needs_background": "light"
     },
     "output_type": "display_data"
    }
   ],
   "source": [
    "plt.scatter(x_wind_n,y_wind_n)\n",
    "plt.plot(x_wind_n,regress_values,\"r-\")\n",
    "\n",
    "# Label plot and annotate the line equation\n",
    "plt.xlabel('Latitude')\n",
    "plt.ylabel('Wind Speed')\n",
    "plt.annotate(line_eq,(20,15),fontsize=15,color=\"red\")\n",
    "plt.title(\"Latitude vs. Wind Speed in the Northern Hemisphere\")\n",
    "# Print r square value\n",
    "print(f\"The r-squared is: {rvalue**2}\")\n",
    "\n",
    "# Show plot\n",
    "plt.show()"
   ]
  },
  {
   "cell_type": "markdown",
   "metadata": {},
   "source": [
    "####  Southern Hemisphere - Wind Speed (mph) vs. Latitude Linear Regression"
   ]
  },
  {
   "cell_type": "code",
   "execution_count": 118,
   "metadata": {},
   "outputs": [
    {
     "name": "stdout",
     "output_type": "stream",
     "text": [
      "y = -0.14x +4.14\n",
      "1       8.453309\n",
      "5       8.939880\n",
      "7       8.741698\n",
      "17     11.632423\n",
      "18     11.406906\n",
      "         ...    \n",
      "539     6.889720\n",
      "542     7.186310\n",
      "546     4.853228\n",
      "549     4.838194\n",
      "551     8.677460\n",
      "Name: Latitude, Length: 175, dtype: float64\n"
     ]
    }
   ],
   "source": [
    "x_wind_s=south_df['Latitude']\n",
    "y_wind_s=south_df['Wind Speed']\n",
    "(slope, intercept, rvalue, pvalue, stderr) = linregress(x_wind_s,y_wind_s)\n",
    "line_eq = \"y = \" + str(round(slope,2)) + \"x +\" + str(round(intercept,2))\n",
    "print(line_eq)\n",
    "regress_values = x_wind_s * slope + intercept\n",
    "print(regress_values)"
   ]
  },
  {
   "cell_type": "code",
   "execution_count": 121,
   "metadata": {},
   "outputs": [
    {
     "ename": "ValueError",
     "evalue": "x and y must have same first dimension, but have shapes (378,) and (175,)",
     "output_type": "error",
     "traceback": [
      "\u001b[0;31m---------------------------------------------------------------------------\u001b[0m",
      "\u001b[0;31mValueError\u001b[0m                                Traceback (most recent call last)",
      "\u001b[0;32m<ipython-input-121-f2bd7d9cd27b>\u001b[0m in \u001b[0;36m<module>\u001b[0;34m\u001b[0m\n\u001b[1;32m      1\u001b[0m \u001b[0mplt\u001b[0m\u001b[0;34m.\u001b[0m\u001b[0mscatter\u001b[0m\u001b[0;34m(\u001b[0m\u001b[0mx_wind_s\u001b[0m\u001b[0;34m,\u001b[0m\u001b[0my_wind_s\u001b[0m\u001b[0;34m)\u001b[0m\u001b[0;34m\u001b[0m\u001b[0;34m\u001b[0m\u001b[0m\n\u001b[0;32m----> 2\u001b[0;31m \u001b[0mplt\u001b[0m\u001b[0;34m.\u001b[0m\u001b[0mplot\u001b[0m\u001b[0;34m(\u001b[0m\u001b[0mx_wind_n\u001b[0m\u001b[0;34m,\u001b[0m\u001b[0mregress_values\u001b[0m\u001b[0;34m,\u001b[0m\u001b[0;34m\"r-\"\u001b[0m\u001b[0;34m)\u001b[0m\u001b[0;34m\u001b[0m\u001b[0;34m\u001b[0m\u001b[0m\n\u001b[0m\u001b[1;32m      3\u001b[0m \u001b[0;34m\u001b[0m\u001b[0m\n\u001b[1;32m      4\u001b[0m \u001b[0;31m# Label plot and annotate the line equation\u001b[0m\u001b[0;34m\u001b[0m\u001b[0;34m\u001b[0m\u001b[0;34m\u001b[0m\u001b[0m\n\u001b[1;32m      5\u001b[0m \u001b[0mplt\u001b[0m\u001b[0;34m.\u001b[0m\u001b[0mxlabel\u001b[0m\u001b[0;34m(\u001b[0m\u001b[0;34m'Latitude'\u001b[0m\u001b[0;34m)\u001b[0m\u001b[0;34m\u001b[0m\u001b[0;34m\u001b[0m\u001b[0m\n",
      "\u001b[0;32m~/opt/anaconda3/lib/python3.7/site-packages/matplotlib/pyplot.py\u001b[0m in \u001b[0;36mplot\u001b[0;34m(scalex, scaley, data, *args, **kwargs)\u001b[0m\n\u001b[1;32m   2793\u001b[0m     return gca().plot(\n\u001b[1;32m   2794\u001b[0m         *args, scalex=scalex, scaley=scaley, **({\"data\": data} if data\n\u001b[0;32m-> 2795\u001b[0;31m         is not None else {}), **kwargs)\n\u001b[0m\u001b[1;32m   2796\u001b[0m \u001b[0;34m\u001b[0m\u001b[0m\n\u001b[1;32m   2797\u001b[0m \u001b[0;34m\u001b[0m\u001b[0m\n",
      "\u001b[0;32m~/opt/anaconda3/lib/python3.7/site-packages/matplotlib/axes/_axes.py\u001b[0m in \u001b[0;36mplot\u001b[0;34m(self, scalex, scaley, data, *args, **kwargs)\u001b[0m\n\u001b[1;32m   1664\u001b[0m         \"\"\"\n\u001b[1;32m   1665\u001b[0m         \u001b[0mkwargs\u001b[0m \u001b[0;34m=\u001b[0m \u001b[0mcbook\u001b[0m\u001b[0;34m.\u001b[0m\u001b[0mnormalize_kwargs\u001b[0m\u001b[0;34m(\u001b[0m\u001b[0mkwargs\u001b[0m\u001b[0;34m,\u001b[0m \u001b[0mmlines\u001b[0m\u001b[0;34m.\u001b[0m\u001b[0mLine2D\u001b[0m\u001b[0;34m.\u001b[0m\u001b[0m_alias_map\u001b[0m\u001b[0;34m)\u001b[0m\u001b[0;34m\u001b[0m\u001b[0;34m\u001b[0m\u001b[0m\n\u001b[0;32m-> 1666\u001b[0;31m         \u001b[0mlines\u001b[0m \u001b[0;34m=\u001b[0m \u001b[0;34m[\u001b[0m\u001b[0;34m*\u001b[0m\u001b[0mself\u001b[0m\u001b[0;34m.\u001b[0m\u001b[0m_get_lines\u001b[0m\u001b[0;34m(\u001b[0m\u001b[0;34m*\u001b[0m\u001b[0margs\u001b[0m\u001b[0;34m,\u001b[0m \u001b[0mdata\u001b[0m\u001b[0;34m=\u001b[0m\u001b[0mdata\u001b[0m\u001b[0;34m,\u001b[0m \u001b[0;34m**\u001b[0m\u001b[0mkwargs\u001b[0m\u001b[0;34m)\u001b[0m\u001b[0;34m]\u001b[0m\u001b[0;34m\u001b[0m\u001b[0;34m\u001b[0m\u001b[0m\n\u001b[0m\u001b[1;32m   1667\u001b[0m         \u001b[0;32mfor\u001b[0m \u001b[0mline\u001b[0m \u001b[0;32min\u001b[0m \u001b[0mlines\u001b[0m\u001b[0;34m:\u001b[0m\u001b[0;34m\u001b[0m\u001b[0;34m\u001b[0m\u001b[0m\n\u001b[1;32m   1668\u001b[0m             \u001b[0mself\u001b[0m\u001b[0;34m.\u001b[0m\u001b[0madd_line\u001b[0m\u001b[0;34m(\u001b[0m\u001b[0mline\u001b[0m\u001b[0;34m)\u001b[0m\u001b[0;34m\u001b[0m\u001b[0;34m\u001b[0m\u001b[0m\n",
      "\u001b[0;32m~/opt/anaconda3/lib/python3.7/site-packages/matplotlib/axes/_base.py\u001b[0m in \u001b[0;36m__call__\u001b[0;34m(self, *args, **kwargs)\u001b[0m\n\u001b[1;32m    223\u001b[0m                 \u001b[0mthis\u001b[0m \u001b[0;34m+=\u001b[0m \u001b[0margs\u001b[0m\u001b[0;34m[\u001b[0m\u001b[0;36m0\u001b[0m\u001b[0;34m]\u001b[0m\u001b[0;34m,\u001b[0m\u001b[0;34m\u001b[0m\u001b[0;34m\u001b[0m\u001b[0m\n\u001b[1;32m    224\u001b[0m                 \u001b[0margs\u001b[0m \u001b[0;34m=\u001b[0m \u001b[0margs\u001b[0m\u001b[0;34m[\u001b[0m\u001b[0;36m1\u001b[0m\u001b[0;34m:\u001b[0m\u001b[0;34m]\u001b[0m\u001b[0;34m\u001b[0m\u001b[0;34m\u001b[0m\u001b[0m\n\u001b[0;32m--> 225\u001b[0;31m             \u001b[0;32myield\u001b[0m \u001b[0;32mfrom\u001b[0m \u001b[0mself\u001b[0m\u001b[0;34m.\u001b[0m\u001b[0m_plot_args\u001b[0m\u001b[0;34m(\u001b[0m\u001b[0mthis\u001b[0m\u001b[0;34m,\u001b[0m \u001b[0mkwargs\u001b[0m\u001b[0;34m)\u001b[0m\u001b[0;34m\u001b[0m\u001b[0;34m\u001b[0m\u001b[0m\n\u001b[0m\u001b[1;32m    226\u001b[0m \u001b[0;34m\u001b[0m\u001b[0m\n\u001b[1;32m    227\u001b[0m     \u001b[0;32mdef\u001b[0m \u001b[0mget_next_color\u001b[0m\u001b[0;34m(\u001b[0m\u001b[0mself\u001b[0m\u001b[0;34m)\u001b[0m\u001b[0;34m:\u001b[0m\u001b[0;34m\u001b[0m\u001b[0;34m\u001b[0m\u001b[0m\n",
      "\u001b[0;32m~/opt/anaconda3/lib/python3.7/site-packages/matplotlib/axes/_base.py\u001b[0m in \u001b[0;36m_plot_args\u001b[0;34m(self, tup, kwargs)\u001b[0m\n\u001b[1;32m    389\u001b[0m             \u001b[0mx\u001b[0m\u001b[0;34m,\u001b[0m \u001b[0my\u001b[0m \u001b[0;34m=\u001b[0m \u001b[0mindex_of\u001b[0m\u001b[0;34m(\u001b[0m\u001b[0mtup\u001b[0m\u001b[0;34m[\u001b[0m\u001b[0;34m-\u001b[0m\u001b[0;36m1\u001b[0m\u001b[0;34m]\u001b[0m\u001b[0;34m)\u001b[0m\u001b[0;34m\u001b[0m\u001b[0;34m\u001b[0m\u001b[0m\n\u001b[1;32m    390\u001b[0m \u001b[0;34m\u001b[0m\u001b[0m\n\u001b[0;32m--> 391\u001b[0;31m         \u001b[0mx\u001b[0m\u001b[0;34m,\u001b[0m \u001b[0my\u001b[0m \u001b[0;34m=\u001b[0m \u001b[0mself\u001b[0m\u001b[0;34m.\u001b[0m\u001b[0m_xy_from_xy\u001b[0m\u001b[0;34m(\u001b[0m\u001b[0mx\u001b[0m\u001b[0;34m,\u001b[0m \u001b[0my\u001b[0m\u001b[0;34m)\u001b[0m\u001b[0;34m\u001b[0m\u001b[0;34m\u001b[0m\u001b[0m\n\u001b[0m\u001b[1;32m    392\u001b[0m \u001b[0;34m\u001b[0m\u001b[0m\n\u001b[1;32m    393\u001b[0m         \u001b[0;32mif\u001b[0m \u001b[0mself\u001b[0m\u001b[0;34m.\u001b[0m\u001b[0mcommand\u001b[0m \u001b[0;34m==\u001b[0m \u001b[0;34m'plot'\u001b[0m\u001b[0;34m:\u001b[0m\u001b[0;34m\u001b[0m\u001b[0;34m\u001b[0m\u001b[0m\n",
      "\u001b[0;32m~/opt/anaconda3/lib/python3.7/site-packages/matplotlib/axes/_base.py\u001b[0m in \u001b[0;36m_xy_from_xy\u001b[0;34m(self, x, y)\u001b[0m\n\u001b[1;32m    268\u001b[0m         \u001b[0;32mif\u001b[0m \u001b[0mx\u001b[0m\u001b[0;34m.\u001b[0m\u001b[0mshape\u001b[0m\u001b[0;34m[\u001b[0m\u001b[0;36m0\u001b[0m\u001b[0;34m]\u001b[0m \u001b[0;34m!=\u001b[0m \u001b[0my\u001b[0m\u001b[0;34m.\u001b[0m\u001b[0mshape\u001b[0m\u001b[0;34m[\u001b[0m\u001b[0;36m0\u001b[0m\u001b[0;34m]\u001b[0m\u001b[0;34m:\u001b[0m\u001b[0;34m\u001b[0m\u001b[0;34m\u001b[0m\u001b[0m\n\u001b[1;32m    269\u001b[0m             raise ValueError(\"x and y must have same first dimension, but \"\n\u001b[0;32m--> 270\u001b[0;31m                              \"have shapes {} and {}\".format(x.shape, y.shape))\n\u001b[0m\u001b[1;32m    271\u001b[0m         \u001b[0;32mif\u001b[0m \u001b[0mx\u001b[0m\u001b[0;34m.\u001b[0m\u001b[0mndim\u001b[0m \u001b[0;34m>\u001b[0m \u001b[0;36m2\u001b[0m \u001b[0;32mor\u001b[0m \u001b[0my\u001b[0m\u001b[0;34m.\u001b[0m\u001b[0mndim\u001b[0m \u001b[0;34m>\u001b[0m \u001b[0;36m2\u001b[0m\u001b[0;34m:\u001b[0m\u001b[0;34m\u001b[0m\u001b[0;34m\u001b[0m\u001b[0m\n\u001b[1;32m    272\u001b[0m             raise ValueError(\"x and y can be no greater than 2-D, but have \"\n",
      "\u001b[0;31mValueError\u001b[0m: x and y must have same first dimension, but have shapes (378,) and (175,)"
     ]
    },
    {
     "data": {
      "image/png": "[encoded data removed]",
      "text/plain": [
       "<Figure size 432x288 with 1 Axes>"
      ]
     },
     "metadata": {
      "needs_background": "light"
     },
     "output_type": "display_data"
    }
   ],
   "source": [
    "plt.scatter(x_wind_s,y_wind_s)\n",
    "plt.plot(x_wind_n,regress_values,\"r-\")\n",
    "\n",
    "# Label plot and annotate the line equation\n",
    "plt.xlabel('Latitude')\n",
    "plt.ylabel('Wind Speed')\n",
    "plt.annotate(line_eq,(20,15),fontsize=15,color=\"red\")\n",
    "plt.title(\"Latitude vs. Wind Speed in the Southern Hemisphere\")\n",
    "# Print r square value\n",
    "print(f\"The r-squared is: {rvalue**2}\")\n",
    "\n",
    "# Show plot\n",
    "plt.show()"
   ]
  },
  {
   "cell_type": "code",
   "execution_count": 122,
   "metadata": {},
   "outputs": [
    {
     "data": {
      "text/html": [
       "<div>\n",
       "<style scoped>\n",
       "    .dataframe tbody tr th:only-of-type {\n",
       "        vertical-align: middle;\n",
       "    }\n",
       "\n",
       "    .dataframe tbody tr th {\n",
       "        vertical-align: top;\n",
       "    }\n",
       "\n",
       "    .dataframe thead th {\n",
       "        text-align: right;\n",
       "    }\n",
       "</style>\n",
       "<table border=\"1\" class=\"dataframe\">\n",
       "  <thead>\n",
       "    <tr style=\"text-align: right;\">\n",
       "      <th></th>\n",
       "      <th>City</th>\n",
       "      <th>Cloudiness</th>\n",
       "      <th>Date</th>\n",
       "      <th>Humidity</th>\n",
       "      <th>Latitude</th>\n",
       "      <th>Longitude</th>\n",
       "      <th>Max Temperature</th>\n",
       "      <th>Wind Speed</th>\n",
       "    </tr>\n",
       "  </thead>\n",
       "  <tbody>\n",
       "    <tr>\n",
       "      <td>0</td>\n",
       "      <td>Guerrero Negro</td>\n",
       "      <td>0</td>\n",
       "      <td>1587258069</td>\n",
       "      <td>61</td>\n",
       "      <td>27.98</td>\n",
       "      <td>-114.06</td>\n",
       "      <td>63.99</td>\n",
       "      <td>21.45</td>\n",
       "    </tr>\n",
       "    <tr>\n",
       "      <td>1</td>\n",
       "      <td>San Juan</td>\n",
       "      <td>0</td>\n",
       "      <td>1587258143</td>\n",
       "      <td>30</td>\n",
       "      <td>-31.54</td>\n",
       "      <td>-68.54</td>\n",
       "      <td>75.94</td>\n",
       "      <td>1.01</td>\n",
       "    </tr>\n",
       "    <tr>\n",
       "      <td>2</td>\n",
       "      <td>Muravlenko</td>\n",
       "      <td>100</td>\n",
       "      <td>1587258143</td>\n",
       "      <td>90</td>\n",
       "      <td>63.79</td>\n",
       "      <td>74.52</td>\n",
       "      <td>39.58</td>\n",
       "      <td>16.11</td>\n",
       "    </tr>\n",
       "    <tr>\n",
       "      <td>3</td>\n",
       "      <td>Qaanaaq</td>\n",
       "      <td>100</td>\n",
       "      <td>1587258144</td>\n",
       "      <td>88</td>\n",
       "      <td>77.48</td>\n",
       "      <td>-69.36</td>\n",
       "      <td>21.69</td>\n",
       "      <td>19.26</td>\n",
       "    </tr>\n",
       "    <tr>\n",
       "      <td>4</td>\n",
       "      <td>Kozan</td>\n",
       "      <td>23</td>\n",
       "      <td>1587258144</td>\n",
       "      <td>100</td>\n",
       "      <td>37.46</td>\n",
       "      <td>35.82</td>\n",
       "      <td>57.31</td>\n",
       "      <td>4.70</td>\n",
       "    </tr>\n",
       "  </tbody>\n",
       "</table>\n",
       "</div>"
      ],
      "text/plain": [
       "             City  Cloudiness        Date  Humidity  Latitude  Longitude  \\\n",
       "0  Guerrero Negro           0  1587258069        61     27.98    -114.06   \n",
       "1        San Juan           0  1587258143        30    -31.54     -68.54   \n",
       "2      Muravlenko         100  1587258143        90     63.79      74.52   \n",
       "3         Qaanaaq         100  1587258144        88     77.48     -69.36   \n",
       "4           Kozan          23  1587258144       100     37.46      35.82   \n",
       "\n",
       "   Max Temperature  Wind Speed  \n",
       "0            63.99       21.45  \n",
       "1            75.94        1.01  \n",
       "2            39.58       16.11  \n",
       "3            21.69       19.26  \n",
       "4            57.31        4.70  "
      ]
     },
     "execution_count": 122,
     "metadata": {},
     "output_type": "execute_result"
    }
   ],
   "source": [
    "city_df.to_csv(\"weatherpy.csv\")\n",
    "city_df.head()"
   ]
  },
  {
   "cell_type": "code",
   "execution_count": null,
   "metadata": {},
   "outputs": [],
   "source": []
  }
 ],
 "metadata": {
  "anaconda-cloud": {},
  "kernel_info": {
   "name": "python3"
  },
  "kernelspec": {
   "display_name": "Python 3",
   "language": "python",
   "name": "python3"
  },
  "language_info": {
   "codemirror_mode": {
    "name": "ipython",
    "version": 3
   },
   "file_extension": ".py",
   "mimetype": "text/x-python",
   "name": "python",
   "nbconvert_exporter": "python",
   "pygments_lexer": "ipython3",
   "version": "3.7.4"
  },
  "latex_envs": {
   "LaTeX_envs_menu_present": true,
   "autoclose": false,
   "autocomplete": true,
   "bibliofile": "biblio.bib",
   "cite_by": "apalike",
   "current_citInitial": 1,
   "eqLabelWithNumbers": true,
   "eqNumInitial": 1,
   "hotkeys": {
    "equation": "Ctrl-E",
    "itemize": "Ctrl-I"
   },
   "labels_anchors": false,
   "latex_user_defs": false,
   "report_style_numbering": false,
   "user_envs_cfg": false
  },
  "nteract": {
   "version": "0.12.3"
  }
 },
 "nbformat": 4,
 "nbformat_minor": 2
}
